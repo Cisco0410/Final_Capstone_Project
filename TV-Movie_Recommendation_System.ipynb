{
 "cells": [
  {
   "cell_type": "code",
   "execution_count": 2,
   "metadata": {
    "scrolled": true
   },
   "outputs": [],
   "source": [
    "import pandas as pd\n",
    "import numpy as np\n",
    "import datetime\n",
    "import matplotlib.pyplot as plt\n",
    "import seaborn as sns\n",
    "from nltk.tokenize import word_tokenize\n",
    "from nltk.corpus import stopwords, wordnet\n",
    "from nltk.stem import WordNetLemmatizer\n",
    "from gensim.corpora.dictionary import Dictionary\n",
    "import nltk\n",
    "import re\n",
    "import pickle\n",
    "from gensim.models.tfidfmodel import TfidfModel\n",
    "from gensim.similarities import MatrixSimilarity"
   ]
  },
  {
   "cell_type": "code",
   "execution_count": 14,
   "metadata": {
    "scrolled": true
   },
   "outputs": [
    {
     "name": "stderr",
     "output_type": "stream",
     "text": [
      "C:\\Users\\Cisco\\anaconda3\\lib\\site-packages\\IPython\\core\\interactiveshell.py:3063: DtypeWarning: Columns (3) have mixed types.Specify dtype option on import or set low_memory=False.\n",
      "  interactivity=interactivity, compiler=compiler, result=result)\n"
     ]
    }
   ],
   "source": [
    "movies_df = pd.read_csv(r'C:\\Users\\Cisco\\OneDrive\\Documents\\Springboard\\Final_Capstone_Project\\movie_data.csv')"
   ]
  },
  {
   "cell_type": "code",
   "execution_count": 15,
   "metadata": {
    "scrolled": false
   },
   "outputs": [
    {
     "data": {
      "text/html": [
       "<div>\n",
       "<style scoped>\n",
       "    .dataframe tbody tr th:only-of-type {\n",
       "        vertical-align: middle;\n",
       "    }\n",
       "\n",
       "    .dataframe tbody tr th {\n",
       "        vertical-align: top;\n",
       "    }\n",
       "\n",
       "    .dataframe thead th {\n",
       "        text-align: right;\n",
       "    }\n",
       "</style>\n",
       "<table border=\"1\" class=\"dataframe\">\n",
       "  <thead>\n",
       "    <tr style=\"text-align: right;\">\n",
       "      <th></th>\n",
       "      <th>imdb_title_id</th>\n",
       "      <th>title</th>\n",
       "      <th>original_title</th>\n",
       "      <th>year</th>\n",
       "      <th>date_published</th>\n",
       "      <th>genre</th>\n",
       "      <th>duration</th>\n",
       "      <th>country</th>\n",
       "      <th>language</th>\n",
       "      <th>director</th>\n",
       "      <th>...</th>\n",
       "      <th>actors</th>\n",
       "      <th>description</th>\n",
       "      <th>avg_vote</th>\n",
       "      <th>votes</th>\n",
       "      <th>budget</th>\n",
       "      <th>usa_gross_income</th>\n",
       "      <th>worlwide_gross_income</th>\n",
       "      <th>metascore</th>\n",
       "      <th>reviews_from_users</th>\n",
       "      <th>reviews_from_critics</th>\n",
       "    </tr>\n",
       "  </thead>\n",
       "  <tbody>\n",
       "    <tr>\n",
       "      <th>0</th>\n",
       "      <td>tt0000009</td>\n",
       "      <td>Miss Jerry</td>\n",
       "      <td>Miss Jerry</td>\n",
       "      <td>1894</td>\n",
       "      <td>1894-10-09</td>\n",
       "      <td>Romance</td>\n",
       "      <td>45</td>\n",
       "      <td>USA</td>\n",
       "      <td>None</td>\n",
       "      <td>Alexander Black</td>\n",
       "      <td>...</td>\n",
       "      <td>Blanche Bayliss, William Courtenay, Chauncey D...</td>\n",
       "      <td>The adventures of a female reporter in the 1890s.</td>\n",
       "      <td>5.9</td>\n",
       "      <td>154</td>\n",
       "      <td>NaN</td>\n",
       "      <td>NaN</td>\n",
       "      <td>NaN</td>\n",
       "      <td>NaN</td>\n",
       "      <td>1.0</td>\n",
       "      <td>2.0</td>\n",
       "    </tr>\n",
       "  </tbody>\n",
       "</table>\n",
       "<p>1 rows × 22 columns</p>\n",
       "</div>"
      ],
      "text/plain": [
       "  imdb_title_id       title original_title  year date_published    genre  \\\n",
       "0     tt0000009  Miss Jerry     Miss Jerry  1894     1894-10-09  Romance   \n",
       "\n",
       "   duration country language         director  ...  \\\n",
       "0        45     USA     None  Alexander Black  ...   \n",
       "\n",
       "                                              actors  \\\n",
       "0  Blanche Bayliss, William Courtenay, Chauncey D...   \n",
       "\n",
       "                                         description avg_vote votes  budget  \\\n",
       "0  The adventures of a female reporter in the 1890s.      5.9   154     NaN   \n",
       "\n",
       "   usa_gross_income worlwide_gross_income metascore reviews_from_users  \\\n",
       "0               NaN                   NaN       NaN                1.0   \n",
       "\n",
       "   reviews_from_critics  \n",
       "0                   2.0  \n",
       "\n",
       "[1 rows x 22 columns]"
      ]
     },
     "execution_count": 15,
     "metadata": {},
     "output_type": "execute_result"
    }
   ],
   "source": [
    "movies_df.head(1)"
   ]
  },
  {
   "cell_type": "markdown",
   "metadata": {},
   "source": [
    "# 1) Data Cleaning and Wrangling"
   ]
  },
  {
   "cell_type": "markdown",
   "metadata": {},
   "source": [
    "#   1.1) Movies"
   ]
  },
  {
   "cell_type": "code",
   "execution_count": 4,
   "metadata": {
    "scrolled": true
   },
   "outputs": [],
   "source": [
    "from tqdm import tqdm\n",
    "from time import sleep\n",
    "from imdb import IMDb"
   ]
  },
  {
   "cell_type": "code",
   "execution_count": 16,
   "metadata": {
    "scrolled": true
   },
   "outputs": [],
   "source": [
    "# Drop unnecessary columns for our analysis\n",
    "\n",
    "movies_df.drop(columns= ['original_title', 'language','reviews_from_users','reviews_from_critics','usa_gross_income',\n",
    "                      'worlwide_gross_income','metascore','budget'], inplace= True)"
   ]
  },
  {
   "cell_type": "code",
   "execution_count": 17,
   "metadata": {
    "scrolled": false
   },
   "outputs": [
    {
     "data": {
      "text/html": [
       "<div>\n",
       "<style scoped>\n",
       "    .dataframe tbody tr th:only-of-type {\n",
       "        vertical-align: middle;\n",
       "    }\n",
       "\n",
       "    .dataframe tbody tr th {\n",
       "        vertical-align: top;\n",
       "    }\n",
       "\n",
       "    .dataframe thead th {\n",
       "        text-align: right;\n",
       "    }\n",
       "</style>\n",
       "<table border=\"1\" class=\"dataframe\">\n",
       "  <thead>\n",
       "    <tr style=\"text-align: right;\">\n",
       "      <th></th>\n",
       "      <th>imdb_title_id</th>\n",
       "      <th>title</th>\n",
       "      <th>year</th>\n",
       "      <th>date_published</th>\n",
       "      <th>genre</th>\n",
       "      <th>duration</th>\n",
       "      <th>country</th>\n",
       "      <th>director</th>\n",
       "      <th>writer</th>\n",
       "      <th>production_company</th>\n",
       "      <th>actors</th>\n",
       "      <th>description</th>\n",
       "      <th>avg_vote</th>\n",
       "      <th>votes</th>\n",
       "    </tr>\n",
       "  </thead>\n",
       "  <tbody>\n",
       "    <tr>\n",
       "      <th>0</th>\n",
       "      <td>tt0000009</td>\n",
       "      <td>Miss Jerry</td>\n",
       "      <td>1894</td>\n",
       "      <td>1894-10-09</td>\n",
       "      <td>Romance</td>\n",
       "      <td>45</td>\n",
       "      <td>USA</td>\n",
       "      <td>Alexander Black</td>\n",
       "      <td>Alexander Black</td>\n",
       "      <td>Alexander Black Photoplays</td>\n",
       "      <td>Blanche Bayliss, William Courtenay, Chauncey D...</td>\n",
       "      <td>The adventures of a female reporter in the 1890s.</td>\n",
       "      <td>5.9</td>\n",
       "      <td>154</td>\n",
       "    </tr>\n",
       "    <tr>\n",
       "      <th>1</th>\n",
       "      <td>tt0000574</td>\n",
       "      <td>The Story of the Kelly Gang</td>\n",
       "      <td>1906</td>\n",
       "      <td>1906-12-26</td>\n",
       "      <td>Biography, Crime, Drama</td>\n",
       "      <td>70</td>\n",
       "      <td>Australia</td>\n",
       "      <td>Charles Tait</td>\n",
       "      <td>Charles Tait</td>\n",
       "      <td>J. and N. Tait</td>\n",
       "      <td>Elizabeth Tait, John Tait, Norman Campbell, Be...</td>\n",
       "      <td>True story of notorious Australian outlaw Ned ...</td>\n",
       "      <td>6.1</td>\n",
       "      <td>589</td>\n",
       "    </tr>\n",
       "    <tr>\n",
       "      <th>2</th>\n",
       "      <td>tt0001892</td>\n",
       "      <td>Den sorte drøm</td>\n",
       "      <td>1911</td>\n",
       "      <td>1911-08-19</td>\n",
       "      <td>Drama</td>\n",
       "      <td>53</td>\n",
       "      <td>Germany, Denmark</td>\n",
       "      <td>Urban Gad</td>\n",
       "      <td>Urban Gad, Gebhard Schätzler-Perasini</td>\n",
       "      <td>Fotorama</td>\n",
       "      <td>Asta Nielsen, Valdemar Psilander, Gunnar Helse...</td>\n",
       "      <td>Two men of high rank are both wooing the beaut...</td>\n",
       "      <td>5.8</td>\n",
       "      <td>188</td>\n",
       "    </tr>\n",
       "    <tr>\n",
       "      <th>3</th>\n",
       "      <td>tt0002101</td>\n",
       "      <td>Cleopatra</td>\n",
       "      <td>1912</td>\n",
       "      <td>1912-11-13</td>\n",
       "      <td>Drama, History</td>\n",
       "      <td>100</td>\n",
       "      <td>USA</td>\n",
       "      <td>Charles L. Gaskill</td>\n",
       "      <td>Victorien Sardou</td>\n",
       "      <td>Helen Gardner Picture Players</td>\n",
       "      <td>Helen Gardner, Pearl Sindelar, Miss Fielding, ...</td>\n",
       "      <td>The fabled queen of Egypt's affair with Roman ...</td>\n",
       "      <td>5.2</td>\n",
       "      <td>446</td>\n",
       "    </tr>\n",
       "    <tr>\n",
       "      <th>4</th>\n",
       "      <td>tt0002130</td>\n",
       "      <td>L'Inferno</td>\n",
       "      <td>1911</td>\n",
       "      <td>1911-03-06</td>\n",
       "      <td>Adventure, Drama, Fantasy</td>\n",
       "      <td>68</td>\n",
       "      <td>Italy</td>\n",
       "      <td>Francesco Bertolini, Adolfo Padovan</td>\n",
       "      <td>Dante Alighieri</td>\n",
       "      <td>Milano Film</td>\n",
       "      <td>Salvatore Papa, Arturo Pirovano, Giuseppe de L...</td>\n",
       "      <td>Loosely adapted from Dante's Divine Comedy and...</td>\n",
       "      <td>7.0</td>\n",
       "      <td>2237</td>\n",
       "    </tr>\n",
       "  </tbody>\n",
       "</table>\n",
       "</div>"
      ],
      "text/plain": [
       "  imdb_title_id                        title  year date_published  \\\n",
       "0     tt0000009                   Miss Jerry  1894     1894-10-09   \n",
       "1     tt0000574  The Story of the Kelly Gang  1906     1906-12-26   \n",
       "2     tt0001892               Den sorte drøm  1911     1911-08-19   \n",
       "3     tt0002101                    Cleopatra  1912     1912-11-13   \n",
       "4     tt0002130                    L'Inferno  1911     1911-03-06   \n",
       "\n",
       "                       genre  duration           country  \\\n",
       "0                    Romance        45               USA   \n",
       "1    Biography, Crime, Drama        70         Australia   \n",
       "2                      Drama        53  Germany, Denmark   \n",
       "3             Drama, History       100               USA   \n",
       "4  Adventure, Drama, Fantasy        68             Italy   \n",
       "\n",
       "                              director                                 writer  \\\n",
       "0                      Alexander Black                        Alexander Black   \n",
       "1                         Charles Tait                           Charles Tait   \n",
       "2                            Urban Gad  Urban Gad, Gebhard Schätzler-Perasini   \n",
       "3                   Charles L. Gaskill                       Victorien Sardou   \n",
       "4  Francesco Bertolini, Adolfo Padovan                        Dante Alighieri   \n",
       "\n",
       "              production_company  \\\n",
       "0     Alexander Black Photoplays   \n",
       "1                 J. and N. Tait   \n",
       "2                       Fotorama   \n",
       "3  Helen Gardner Picture Players   \n",
       "4                    Milano Film   \n",
       "\n",
       "                                              actors  \\\n",
       "0  Blanche Bayliss, William Courtenay, Chauncey D...   \n",
       "1  Elizabeth Tait, John Tait, Norman Campbell, Be...   \n",
       "2  Asta Nielsen, Valdemar Psilander, Gunnar Helse...   \n",
       "3  Helen Gardner, Pearl Sindelar, Miss Fielding, ...   \n",
       "4  Salvatore Papa, Arturo Pirovano, Giuseppe de L...   \n",
       "\n",
       "                                         description  avg_vote  votes  \n",
       "0  The adventures of a female reporter in the 1890s.       5.9    154  \n",
       "1  True story of notorious Australian outlaw Ned ...       6.1    589  \n",
       "2  Two men of high rank are both wooing the beaut...       5.8    188  \n",
       "3  The fabled queen of Egypt's affair with Roman ...       5.2    446  \n",
       "4  Loosely adapted from Dante's Divine Comedy and...       7.0   2237  "
      ]
     },
     "execution_count": 17,
     "metadata": {},
     "output_type": "execute_result"
    }
   ],
   "source": [
    "movies_df.head()"
   ]
  },
  {
   "cell_type": "code",
   "execution_count": 18,
   "metadata": {
    "scrolled": true
   },
   "outputs": [],
   "source": [
    "# Replace with actualy date of movie release\n",
    "\n",
    "movies_df.year.replace({'TV Movie 2019': '2019'}, inplace= True)\n",
    "movies_df.date_published.replace({'TV Movie 2019': '2019-09-09'}, inplace = True)"
   ]
  },
  {
   "cell_type": "code",
   "execution_count": 19,
   "metadata": {
    "scrolled": true
   },
   "outputs": [
    {
     "data": {
      "text/html": [
       "<div>\n",
       "<style scoped>\n",
       "    .dataframe tbody tr th:only-of-type {\n",
       "        vertical-align: middle;\n",
       "    }\n",
       "\n",
       "    .dataframe tbody tr th {\n",
       "        vertical-align: top;\n",
       "    }\n",
       "\n",
       "    .dataframe thead th {\n",
       "        text-align: right;\n",
       "    }\n",
       "</style>\n",
       "<table border=\"1\" class=\"dataframe\">\n",
       "  <thead>\n",
       "    <tr style=\"text-align: right;\">\n",
       "      <th></th>\n",
       "      <th>imdb_title_id</th>\n",
       "      <th>title</th>\n",
       "      <th>year</th>\n",
       "      <th>date_published</th>\n",
       "      <th>genre</th>\n",
       "      <th>duration</th>\n",
       "      <th>country</th>\n",
       "      <th>director</th>\n",
       "      <th>writer</th>\n",
       "      <th>production_company</th>\n",
       "      <th>actors</th>\n",
       "      <th>description</th>\n",
       "      <th>avg_vote</th>\n",
       "      <th>votes</th>\n",
       "    </tr>\n",
       "  </thead>\n",
       "  <tbody>\n",
       "  </tbody>\n",
       "</table>\n",
       "</div>"
      ],
      "text/plain": [
       "Empty DataFrame\n",
       "Columns: [imdb_title_id, title, year, date_published, genre, duration, country, director, writer, production_company, actors, description, avg_vote, votes]\n",
       "Index: []"
      ]
     },
     "execution_count": 19,
     "metadata": {},
     "output_type": "execute_result"
    }
   ],
   "source": [
    "# Check to make sure previous code worked\n",
    "\n",
    "movies_df.loc[movies_df.date_published == 'TV Movie 2019']"
   ]
  },
  {
   "cell_type": "code",
   "execution_count": 20,
   "metadata": {
    "scrolled": true
   },
   "outputs": [],
   "source": [
    "# Change data type to from object to datetime\n",
    "\n",
    "movies_df.year = movies_df.year.astype(str).astype(int)\n",
    "movies_df['date_published'] = pd.to_datetime(movies_df['date_published'])"
   ]
  },
  {
   "cell_type": "code",
   "execution_count": 21,
   "metadata": {
    "scrolled": true
   },
   "outputs": [
    {
     "name": "stdout",
     "output_type": "stream",
     "text": [
      "<class 'pandas.core.frame.DataFrame'>\n",
      "RangeIndex: 85855 entries, 0 to 85854\n",
      "Data columns (total 14 columns):\n",
      " #   Column              Non-Null Count  Dtype         \n",
      "---  ------              --------------  -----         \n",
      " 0   imdb_title_id       85855 non-null  object        \n",
      " 1   title               85855 non-null  object        \n",
      " 2   year                85855 non-null  int32         \n",
      " 3   date_published      85855 non-null  datetime64[ns]\n",
      " 4   genre               85855 non-null  object        \n",
      " 5   duration            85855 non-null  int64         \n",
      " 6   country             85791 non-null  object        \n",
      " 7   director            85768 non-null  object        \n",
      " 8   writer              84283 non-null  object        \n",
      " 9   production_company  81400 non-null  object        \n",
      " 10  actors              85786 non-null  object        \n",
      " 11  description         83740 non-null  object        \n",
      " 12  avg_vote            85855 non-null  float64       \n",
      " 13  votes               85855 non-null  int64         \n",
      "dtypes: datetime64[ns](1), float64(1), int32(1), int64(2), object(9)\n",
      "memory usage: 8.8+ MB\n"
     ]
    }
   ],
   "source": [
    "movies_df.info()"
   ]
  },
  {
   "cell_type": "code",
   "execution_count": 22,
   "metadata": {
    "scrolled": true
   },
   "outputs": [
    {
     "data": {
      "text/html": [
       "<div>\n",
       "<style scoped>\n",
       "    .dataframe tbody tr th:only-of-type {\n",
       "        vertical-align: middle;\n",
       "    }\n",
       "\n",
       "    .dataframe tbody tr th {\n",
       "        vertical-align: top;\n",
       "    }\n",
       "\n",
       "    .dataframe thead th {\n",
       "        text-align: right;\n",
       "    }\n",
       "</style>\n",
       "<table border=\"1\" class=\"dataframe\">\n",
       "  <thead>\n",
       "    <tr style=\"text-align: right;\">\n",
       "      <th></th>\n",
       "      <th>imdb_title_id</th>\n",
       "      <th>title</th>\n",
       "      <th>year</th>\n",
       "      <th>date_published</th>\n",
       "      <th>genre</th>\n",
       "      <th>duration</th>\n",
       "      <th>country</th>\n",
       "      <th>director</th>\n",
       "      <th>writer</th>\n",
       "      <th>production_company</th>\n",
       "      <th>actors</th>\n",
       "      <th>description</th>\n",
       "      <th>avg_vote</th>\n",
       "      <th>votes</th>\n",
       "    </tr>\n",
       "  </thead>\n",
       "  <tbody>\n",
       "    <tr>\n",
       "      <th>0</th>\n",
       "      <td>tt0000009</td>\n",
       "      <td>Miss Jerry</td>\n",
       "      <td>1894</td>\n",
       "      <td>1894-10-09</td>\n",
       "      <td>Romance</td>\n",
       "      <td>45</td>\n",
       "      <td>USA</td>\n",
       "      <td>Alexander Black</td>\n",
       "      <td>Alexander Black</td>\n",
       "      <td>Alexander Black Photoplays</td>\n",
       "      <td>Blanche Bayliss, William Courtenay, Chauncey D...</td>\n",
       "      <td>The adventures of a female reporter in the 1890s.</td>\n",
       "      <td>5.9</td>\n",
       "      <td>154</td>\n",
       "    </tr>\n",
       "  </tbody>\n",
       "</table>\n",
       "</div>"
      ],
      "text/plain": [
       "  imdb_title_id       title  year date_published    genre  duration country  \\\n",
       "0     tt0000009  Miss Jerry  1894     1894-10-09  Romance        45     USA   \n",
       "\n",
       "          director           writer          production_company  \\\n",
       "0  Alexander Black  Alexander Black  Alexander Black Photoplays   \n",
       "\n",
       "                                              actors  \\\n",
       "0  Blanche Bayliss, William Courtenay, Chauncey D...   \n",
       "\n",
       "                                         description  avg_vote  votes  \n",
       "0  The adventures of a female reporter in the 1890s.       5.9    154  "
      ]
     },
     "execution_count": 22,
     "metadata": {},
     "output_type": "execute_result"
    }
   ],
   "source": [
    "movies_df.head(1)"
   ]
  },
  {
   "cell_type": "code",
   "execution_count": 23,
   "metadata": {
    "scrolled": true
   },
   "outputs": [
    {
     "data": {
      "text/plain": [
       "(85855, 14)"
      ]
     },
     "execution_count": 23,
     "metadata": {},
     "output_type": "execute_result"
    }
   ],
   "source": [
    "movies_df.shape"
   ]
  },
  {
   "cell_type": "code",
   "execution_count": 24,
   "metadata": {
    "scrolled": true
   },
   "outputs": [],
   "source": [
    "# We're going to narrow it down to the top 10,000 for computational feasability and practicality\n",
    "\n",
    "movies_df = movies_df.sort_values('votes', ascending= False)[:10000]"
   ]
  },
  {
   "cell_type": "code",
   "execution_count": 25,
   "metadata": {
    "scrolled": true
   },
   "outputs": [
    {
     "data": {
      "text/plain": [
       "(10000, 14)"
      ]
     },
     "execution_count": 25,
     "metadata": {},
     "output_type": "execute_result"
    }
   ],
   "source": [
    "movies_df.shape"
   ]
  },
  {
   "cell_type": "code",
   "execution_count": 294,
   "metadata": {
    "scrolled": true
   },
   "outputs": [
    {
     "data": {
      "text/html": [
       "<div>\n",
       "<style scoped>\n",
       "    .dataframe tbody tr th:only-of-type {\n",
       "        vertical-align: middle;\n",
       "    }\n",
       "\n",
       "    .dataframe tbody tr th {\n",
       "        vertical-align: top;\n",
       "    }\n",
       "\n",
       "    .dataframe thead th {\n",
       "        text-align: right;\n",
       "    }\n",
       "</style>\n",
       "<table border=\"1\" class=\"dataframe\">\n",
       "  <thead>\n",
       "    <tr style=\"text-align: right;\">\n",
       "      <th></th>\n",
       "      <th>title</th>\n",
       "      <th>year</th>\n",
       "      <th>date_published</th>\n",
       "      <th>genre</th>\n",
       "      <th>duration</th>\n",
       "      <th>country</th>\n",
       "      <th>director</th>\n",
       "      <th>writer</th>\n",
       "      <th>production_company</th>\n",
       "      <th>actors</th>\n",
       "      <th>description</th>\n",
       "      <th>avg_vote</th>\n",
       "      <th>votes</th>\n",
       "    </tr>\n",
       "    <tr>\n",
       "      <th>imdb_title_id</th>\n",
       "      <th></th>\n",
       "      <th></th>\n",
       "      <th></th>\n",
       "      <th></th>\n",
       "      <th></th>\n",
       "      <th></th>\n",
       "      <th></th>\n",
       "      <th></th>\n",
       "      <th></th>\n",
       "      <th></th>\n",
       "      <th></th>\n",
       "      <th></th>\n",
       "      <th></th>\n",
       "    </tr>\n",
       "  </thead>\n",
       "  <tbody>\n",
       "    <tr>\n",
       "      <th>tt0111161</th>\n",
       "      <td>Le ali della libertà</td>\n",
       "      <td>1994</td>\n",
       "      <td>1995-02-10</td>\n",
       "      <td>Drama</td>\n",
       "      <td>142</td>\n",
       "      <td>USA</td>\n",
       "      <td>Frank Darabont</td>\n",
       "      <td>Stephen King, Frank Darabont</td>\n",
       "      <td>Castle Rock Entertainment</td>\n",
       "      <td>Tim Robbins, Morgan Freeman, Bob Gunton, Willi...</td>\n",
       "      <td>Two imprisoned men bond over a number of years...</td>\n",
       "      <td>9.3</td>\n",
       "      <td>2278845</td>\n",
       "    </tr>\n",
       "    <tr>\n",
       "      <th>tt0468569</th>\n",
       "      <td>Il cavaliere oscuro</td>\n",
       "      <td>2008</td>\n",
       "      <td>2008-07-23</td>\n",
       "      <td>Action, Crime, Drama</td>\n",
       "      <td>152</td>\n",
       "      <td>USA, UK</td>\n",
       "      <td>Christopher Nolan</td>\n",
       "      <td>Jonathan Nolan, Christopher Nolan</td>\n",
       "      <td>Warner Bros.</td>\n",
       "      <td>Christian Bale, Heath Ledger, Aaron Eckhart, M...</td>\n",
       "      <td>When the menace known as the Joker wreaks havo...</td>\n",
       "      <td>9.0</td>\n",
       "      <td>2241615</td>\n",
       "    </tr>\n",
       "    <tr>\n",
       "      <th>tt1375666</th>\n",
       "      <td>Inception</td>\n",
       "      <td>2010</td>\n",
       "      <td>2010-09-24</td>\n",
       "      <td>Action, Adventure, Sci-Fi</td>\n",
       "      <td>148</td>\n",
       "      <td>USA, UK</td>\n",
       "      <td>Christopher Nolan</td>\n",
       "      <td>Christopher Nolan</td>\n",
       "      <td>Warner Bros.</td>\n",
       "      <td>Leonardo DiCaprio, Joseph Gordon-Levitt, Ellen...</td>\n",
       "      <td>A thief who steals corporate secrets through t...</td>\n",
       "      <td>8.8</td>\n",
       "      <td>2002816</td>\n",
       "    </tr>\n",
       "    <tr>\n",
       "      <th>tt0137523</th>\n",
       "      <td>Fight Club</td>\n",
       "      <td>1999</td>\n",
       "      <td>1999-10-29</td>\n",
       "      <td>Drama</td>\n",
       "      <td>139</td>\n",
       "      <td>USA, Germany</td>\n",
       "      <td>David Fincher</td>\n",
       "      <td>Chuck Palahniuk, Jim Uhls</td>\n",
       "      <td>Fox 2000 Pictures</td>\n",
       "      <td>Edward Norton, Brad Pitt, Meat Loaf, Zach Gren...</td>\n",
       "      <td>An insomniac office worker and a devil-may-car...</td>\n",
       "      <td>8.8</td>\n",
       "      <td>1807440</td>\n",
       "    </tr>\n",
       "    <tr>\n",
       "      <th>tt0110912</th>\n",
       "      <td>Pulp Fiction</td>\n",
       "      <td>1994</td>\n",
       "      <td>1994-10-28</td>\n",
       "      <td>Crime, Drama</td>\n",
       "      <td>154</td>\n",
       "      <td>USA</td>\n",
       "      <td>Quentin Tarantino</td>\n",
       "      <td>Quentin Tarantino, Roger Avary</td>\n",
       "      <td>Miramax</td>\n",
       "      <td>Tim Roth, Amanda Plummer, Laura Lovelace, John...</td>\n",
       "      <td>The lives of two mob hitmen, a boxer, a gangst...</td>\n",
       "      <td>8.9</td>\n",
       "      <td>1780147</td>\n",
       "    </tr>\n",
       "  </tbody>\n",
       "</table>\n",
       "</div>"
      ],
      "text/plain": [
       "                              title  year date_published  \\\n",
       "imdb_title_id                                              \n",
       "tt0111161      Le ali della libertà  1994     1995-02-10   \n",
       "tt0468569       Il cavaliere oscuro  2008     2008-07-23   \n",
       "tt1375666                 Inception  2010     2010-09-24   \n",
       "tt0137523                Fight Club  1999     1999-10-29   \n",
       "tt0110912              Pulp Fiction  1994     1994-10-28   \n",
       "\n",
       "                                   genre  duration       country  \\\n",
       "imdb_title_id                                                      \n",
       "tt0111161                          Drama       142           USA   \n",
       "tt0468569           Action, Crime, Drama       152       USA, UK   \n",
       "tt1375666      Action, Adventure, Sci-Fi       148       USA, UK   \n",
       "tt0137523                          Drama       139  USA, Germany   \n",
       "tt0110912                   Crime, Drama       154           USA   \n",
       "\n",
       "                        director                             writer  \\\n",
       "imdb_title_id                                                         \n",
       "tt0111161         Frank Darabont       Stephen King, Frank Darabont   \n",
       "tt0468569      Christopher Nolan  Jonathan Nolan, Christopher Nolan   \n",
       "tt1375666      Christopher Nolan                  Christopher Nolan   \n",
       "tt0137523          David Fincher          Chuck Palahniuk, Jim Uhls   \n",
       "tt0110912      Quentin Tarantino     Quentin Tarantino, Roger Avary   \n",
       "\n",
       "                      production_company  \\\n",
       "imdb_title_id                              \n",
       "tt0111161      Castle Rock Entertainment   \n",
       "tt0468569                   Warner Bros.   \n",
       "tt1375666                   Warner Bros.   \n",
       "tt0137523              Fox 2000 Pictures   \n",
       "tt0110912                        Miramax   \n",
       "\n",
       "                                                          actors  \\\n",
       "imdb_title_id                                                      \n",
       "tt0111161      Tim Robbins, Morgan Freeman, Bob Gunton, Willi...   \n",
       "tt0468569      Christian Bale, Heath Ledger, Aaron Eckhart, M...   \n",
       "tt1375666      Leonardo DiCaprio, Joseph Gordon-Levitt, Ellen...   \n",
       "tt0137523      Edward Norton, Brad Pitt, Meat Loaf, Zach Gren...   \n",
       "tt0110912      Tim Roth, Amanda Plummer, Laura Lovelace, John...   \n",
       "\n",
       "                                                     description  avg_vote  \\\n",
       "imdb_title_id                                                                \n",
       "tt0111161      Two imprisoned men bond over a number of years...       9.3   \n",
       "tt0468569      When the menace known as the Joker wreaks havo...       9.0   \n",
       "tt1375666      A thief who steals corporate secrets through t...       8.8   \n",
       "tt0137523      An insomniac office worker and a devil-may-car...       8.8   \n",
       "tt0110912      The lives of two mob hitmen, a boxer, a gangst...       8.9   \n",
       "\n",
       "                 votes  \n",
       "imdb_title_id           \n",
       "tt0111161      2278845  \n",
       "tt0468569      2241615  \n",
       "tt1375666      2002816  \n",
       "tt0137523      1807440  \n",
       "tt0110912      1780147  "
      ]
     },
     "execution_count": 294,
     "metadata": {},
     "output_type": "execute_result"
    }
   ],
   "source": [
    "movies_df.head(5)"
   ]
  },
  {
   "cell_type": "code",
   "execution_count": 27,
   "metadata": {
    "scrolled": true
   },
   "outputs": [],
   "source": [
    "# Set index to imdb title id\n",
    "\n",
    "movies_df.set_index('imdb_title_id', inplace= True)"
   ]
  },
  {
   "cell_type": "code",
   "execution_count": 19,
   "metadata": {
    "scrolled": true
   },
   "outputs": [],
   "source": [
    "# Shall create a separate variable with all the IDs of the top 10,000 movies in a list\n",
    "\n",
    "movies_index= movies_df.index"
   ]
  },
  {
   "cell_type": "code",
   "execution_count": 20,
   "metadata": {
    "scrolled": true
   },
   "outputs": [
    {
     "data": {
      "text/plain": [
       "Index(['tt0111161', 'tt0468569', 'tt1375666', 'tt0137523', 'tt0110912',\n",
       "       'tt0109830', 'tt0133093', 'tt0120737', 'tt0167260', 'tt0068646',\n",
       "       ...\n",
       "       'tt3203620', 'tt0041859', 'tt0364986', 'tt0064106', 'tt0119324',\n",
       "       'tt3703908', 'tt0099951', 'tt2054790', 'tt0950739', 'tt0294594'],\n",
       "      dtype='object', name='imdb_title_id', length=10000)"
      ]
     },
     "execution_count": 20,
     "metadata": {},
     "output_type": "execute_result"
    }
   ],
   "source": [
    "movies_index"
   ]
  },
  {
   "cell_type": "code",
   "execution_count": 22,
   "metadata": {
    "scrolled": true
   },
   "outputs": [],
   "source": [
    "# Instantiate IMDb()\n",
    "\n",
    "ia = IMDb()"
   ]
  },
  {
   "cell_type": "code",
   "execution_count": 25,
   "metadata": {
    "scrolled": true
   },
   "outputs": [
    {
     "name": "stderr",
     "output_type": "stream",
     "text": [
      "100%|██████████| 10000/10000 [1:04:10<00:00,  2.60it/s]\n"
     ]
    }
   ],
   "source": [
    "# Make a dictionary to store keywords from API with respect to their imbd id number\n",
    "\n",
    "keywords_dict = {}\n",
    "\n",
    "for movie_index in tqdm(movies_index):    # Displays the progress of the for-loop\n",
    "    try:\n",
    "        keywords_dict[movie_index] = ia.get_movie_keywords(movie_index[2:])['data']['keywords']\n",
    "    except:\n",
    "        keywords_dict[movie_index] = ''   "
   ]
  },
  {
   "cell_type": "code",
   "execution_count": 87,
   "metadata": {
    "scrolled": true
   },
   "outputs": [
    {
     "data": {
      "text/html": [
       "<div>\n",
       "<style scoped>\n",
       "    .dataframe tbody tr th:only-of-type {\n",
       "        vertical-align: middle;\n",
       "    }\n",
       "\n",
       "    .dataframe tbody tr th {\n",
       "        vertical-align: top;\n",
       "    }\n",
       "\n",
       "    .dataframe thead th {\n",
       "        text-align: right;\n",
       "    }\n",
       "</style>\n",
       "<table border=\"1\" class=\"dataframe\">\n",
       "  <thead>\n",
       "    <tr style=\"text-align: right;\">\n",
       "      <th></th>\n",
       "      <th>0</th>\n",
       "      <th>1</th>\n",
       "      <th>2</th>\n",
       "      <th>3</th>\n",
       "      <th>4</th>\n",
       "      <th>5</th>\n",
       "      <th>6</th>\n",
       "      <th>7</th>\n",
       "      <th>8</th>\n",
       "      <th>9</th>\n",
       "      <th>...</th>\n",
       "      <th>863</th>\n",
       "      <th>864</th>\n",
       "      <th>865</th>\n",
       "      <th>866</th>\n",
       "      <th>867</th>\n",
       "      <th>868</th>\n",
       "      <th>869</th>\n",
       "      <th>870</th>\n",
       "      <th>871</th>\n",
       "      <th>872</th>\n",
       "    </tr>\n",
       "  </thead>\n",
       "  <tbody>\n",
       "    <tr>\n",
       "      <th>tt0111161</th>\n",
       "      <td>wrongful-imprisonment</td>\n",
       "      <td>based-on-the-works-of-stephen-king</td>\n",
       "      <td>prison</td>\n",
       "      <td>escape-from-prison</td>\n",
       "      <td>voice-over-narration</td>\n",
       "      <td>1940s</td>\n",
       "      <td>police-brutality</td>\n",
       "      <td>prison-cell-search</td>\n",
       "      <td>friendship-between-men</td>\n",
       "      <td>infidelity</td>\n",
       "      <td>...</td>\n",
       "      <td>NaN</td>\n",
       "      <td>NaN</td>\n",
       "      <td>NaN</td>\n",
       "      <td>NaN</td>\n",
       "      <td>NaN</td>\n",
       "      <td>NaN</td>\n",
       "      <td>NaN</td>\n",
       "      <td>NaN</td>\n",
       "      <td>NaN</td>\n",
       "      <td>NaN</td>\n",
       "    </tr>\n",
       "    <tr>\n",
       "      <th>tt0468569</th>\n",
       "      <td>dc-comics</td>\n",
       "      <td>joker</td>\n",
       "      <td>psychopath</td>\n",
       "      <td>clown</td>\n",
       "      <td>criminal-mastermind</td>\n",
       "      <td>scarred-face</td>\n",
       "      <td>superhero</td>\n",
       "      <td>moral-dilemma</td>\n",
       "      <td>clown-mask</td>\n",
       "      <td>dual-identity</td>\n",
       "      <td>...</td>\n",
       "      <td>NaN</td>\n",
       "      <td>NaN</td>\n",
       "      <td>NaN</td>\n",
       "      <td>NaN</td>\n",
       "      <td>NaN</td>\n",
       "      <td>NaN</td>\n",
       "      <td>NaN</td>\n",
       "      <td>NaN</td>\n",
       "      <td>NaN</td>\n",
       "      <td>NaN</td>\n",
       "    </tr>\n",
       "    <tr>\n",
       "      <th>tt1375666</th>\n",
       "      <td>dream</td>\n",
       "      <td>ambiguous-ending</td>\n",
       "      <td>subconscious</td>\n",
       "      <td>mindbender</td>\n",
       "      <td>surprise-ending</td>\n",
       "      <td>psycho-thriller</td>\n",
       "      <td>strong-female-character</td>\n",
       "      <td>architecture</td>\n",
       "      <td>psychological-manipulation</td>\n",
       "      <td>falling-from-height</td>\n",
       "      <td>...</td>\n",
       "      <td>NaN</td>\n",
       "      <td>NaN</td>\n",
       "      <td>NaN</td>\n",
       "      <td>NaN</td>\n",
       "      <td>NaN</td>\n",
       "      <td>NaN</td>\n",
       "      <td>NaN</td>\n",
       "      <td>NaN</td>\n",
       "      <td>NaN</td>\n",
       "      <td>NaN</td>\n",
       "    </tr>\n",
       "    <tr>\n",
       "      <th>tt0137523</th>\n",
       "      <td>fighting</td>\n",
       "      <td>surprise-ending</td>\n",
       "      <td>anti-establishment</td>\n",
       "      <td>insomnia</td>\n",
       "      <td>multiple-personality-disorder</td>\n",
       "      <td>based-on-novel</td>\n",
       "      <td>group-therapy</td>\n",
       "      <td>anti-conformity</td>\n",
       "      <td>anti-capitalism</td>\n",
       "      <td>disturbed-individual</td>\n",
       "      <td>...</td>\n",
       "      <td>NaN</td>\n",
       "      <td>NaN</td>\n",
       "      <td>NaN</td>\n",
       "      <td>NaN</td>\n",
       "      <td>NaN</td>\n",
       "      <td>NaN</td>\n",
       "      <td>NaN</td>\n",
       "      <td>NaN</td>\n",
       "      <td>NaN</td>\n",
       "      <td>NaN</td>\n",
       "    </tr>\n",
       "    <tr>\n",
       "      <th>tt0110912</th>\n",
       "      <td>nonlinear-timeline</td>\n",
       "      <td>overdose</td>\n",
       "      <td>drug-use</td>\n",
       "      <td>drug-overdose</td>\n",
       "      <td>bondage</td>\n",
       "      <td>drug-dealing</td>\n",
       "      <td>neo-noir</td>\n",
       "      <td>car-accident</td>\n",
       "      <td>dance-contest</td>\n",
       "      <td>black-comedy</td>\n",
       "      <td>...</td>\n",
       "      <td>NaN</td>\n",
       "      <td>NaN</td>\n",
       "      <td>NaN</td>\n",
       "      <td>NaN</td>\n",
       "      <td>NaN</td>\n",
       "      <td>NaN</td>\n",
       "      <td>NaN</td>\n",
       "      <td>NaN</td>\n",
       "      <td>NaN</td>\n",
       "      <td>NaN</td>\n",
       "    </tr>\n",
       "    <tr>\n",
       "      <th>...</th>\n",
       "      <td>...</td>\n",
       "      <td>...</td>\n",
       "      <td>...</td>\n",
       "      <td>...</td>\n",
       "      <td>...</td>\n",
       "      <td>...</td>\n",
       "      <td>...</td>\n",
       "      <td>...</td>\n",
       "      <td>...</td>\n",
       "      <td>...</td>\n",
       "      <td>...</td>\n",
       "      <td>...</td>\n",
       "      <td>...</td>\n",
       "      <td>...</td>\n",
       "      <td>...</td>\n",
       "      <td>...</td>\n",
       "      <td>...</td>\n",
       "      <td>...</td>\n",
       "      <td>...</td>\n",
       "      <td>...</td>\n",
       "      <td>...</td>\n",
       "    </tr>\n",
       "    <tr>\n",
       "      <th>tt3703908</th>\n",
       "      <td>21st-century</td>\n",
       "      <td>child</td>\n",
       "      <td>girl</td>\n",
       "      <td>house</td>\n",
       "      <td>weapon</td>\n",
       "      <td>silencer-pistol</td>\n",
       "      <td>silenced-pistol</td>\n",
       "      <td>silenced-gun</td>\n",
       "      <td>year-2015</td>\n",
       "      <td>psychological-warfare</td>\n",
       "      <td>...</td>\n",
       "      <td>NaN</td>\n",
       "      <td>NaN</td>\n",
       "      <td>NaN</td>\n",
       "      <td>NaN</td>\n",
       "      <td>NaN</td>\n",
       "      <td>NaN</td>\n",
       "      <td>NaN</td>\n",
       "      <td>NaN</td>\n",
       "      <td>NaN</td>\n",
       "      <td>NaN</td>\n",
       "    </tr>\n",
       "    <tr>\n",
       "      <th>tt0099951</th>\n",
       "      <td>proles</td>\n",
       "      <td>gangster</td>\n",
       "      <td>real-life-siblings-as-fictional-siblings</td>\n",
       "      <td>cockney</td>\n",
       "      <td>brutality</td>\n",
       "      <td>boxing</td>\n",
       "      <td>brother-brother-relationship</td>\n",
       "      <td>mother-son-relationship</td>\n",
       "      <td>london-england</td>\n",
       "      <td>weeping-man</td>\n",
       "      <td>...</td>\n",
       "      <td>NaN</td>\n",
       "      <td>NaN</td>\n",
       "      <td>NaN</td>\n",
       "      <td>NaN</td>\n",
       "      <td>NaN</td>\n",
       "      <td>NaN</td>\n",
       "      <td>NaN</td>\n",
       "      <td>NaN</td>\n",
       "      <td>NaN</td>\n",
       "      <td>NaN</td>\n",
       "    </tr>\n",
       "    <tr>\n",
       "      <th>tt2054790</th>\n",
       "      <td>16th-century</td>\n",
       "      <td>fight-for-justice</td>\n",
       "      <td>france</td>\n",
       "      <td>male-pubic-hair</td>\n",
       "      <td>army</td>\n",
       "      <td>travesty-of-justice</td>\n",
       "      <td>self-justice</td>\n",
       "      <td>seeking-justice</td>\n",
       "      <td>revenge</td>\n",
       "      <td>murder</td>\n",
       "      <td>...</td>\n",
       "      <td>NaN</td>\n",
       "      <td>NaN</td>\n",
       "      <td>NaN</td>\n",
       "      <td>NaN</td>\n",
       "      <td>NaN</td>\n",
       "      <td>NaN</td>\n",
       "      <td>NaN</td>\n",
       "      <td>NaN</td>\n",
       "      <td>NaN</td>\n",
       "      <td>NaN</td>\n",
       "    </tr>\n",
       "    <tr>\n",
       "      <th>tt0950739</th>\n",
       "      <td>knights-templar</td>\n",
       "      <td>eastern-europe</td>\n",
       "      <td>sword-and-shield</td>\n",
       "      <td>weapon</td>\n",
       "      <td>cavalry</td>\n",
       "      <td>kingdom</td>\n",
       "      <td>king</td>\n",
       "      <td>second-part</td>\n",
       "      <td>sequel</td>\n",
       "      <td>medieval-times</td>\n",
       "      <td>...</td>\n",
       "      <td>NaN</td>\n",
       "      <td>NaN</td>\n",
       "      <td>NaN</td>\n",
       "      <td>NaN</td>\n",
       "      <td>NaN</td>\n",
       "      <td>NaN</td>\n",
       "      <td>NaN</td>\n",
       "      <td>NaN</td>\n",
       "      <td>NaN</td>\n",
       "      <td>NaN</td>\n",
       "    </tr>\n",
       "    <tr>\n",
       "      <th>tt0294594</th>\n",
       "      <td>witness</td>\n",
       "      <td>premonition</td>\n",
       "      <td>mechanic</td>\n",
       "      <td>hit-by-a-car</td>\n",
       "      <td>church</td>\n",
       "      <td>strong-female-lead</td>\n",
       "      <td>strong-female-character</td>\n",
       "      <td>cornfield</td>\n",
       "      <td>electrocution</td>\n",
       "      <td>nuclear-explosion</td>\n",
       "      <td>...</td>\n",
       "      <td>NaN</td>\n",
       "      <td>NaN</td>\n",
       "      <td>NaN</td>\n",
       "      <td>NaN</td>\n",
       "      <td>NaN</td>\n",
       "      <td>NaN</td>\n",
       "      <td>NaN</td>\n",
       "      <td>NaN</td>\n",
       "      <td>NaN</td>\n",
       "      <td>NaN</td>\n",
       "    </tr>\n",
       "  </tbody>\n",
       "</table>\n",
       "<p>10000 rows × 873 columns</p>\n",
       "</div>"
      ],
      "text/plain": [
       "                             0                                   1    \\\n",
       "tt0111161  wrongful-imprisonment  based-on-the-works-of-stephen-king   \n",
       "tt0468569              dc-comics                               joker   \n",
       "tt1375666                  dream                    ambiguous-ending   \n",
       "tt0137523               fighting                     surprise-ending   \n",
       "tt0110912     nonlinear-timeline                            overdose   \n",
       "...                          ...                                 ...   \n",
       "tt3703908           21st-century                               child   \n",
       "tt0099951                 proles                            gangster   \n",
       "tt2054790           16th-century                   fight-for-justice   \n",
       "tt0950739        knights-templar                      eastern-europe   \n",
       "tt0294594                witness                         premonition   \n",
       "\n",
       "                                                2                   3    \\\n",
       "tt0111161                                    prison  escape-from-prison   \n",
       "tt0468569                                psychopath               clown   \n",
       "tt1375666                              subconscious          mindbender   \n",
       "tt0137523                        anti-establishment            insomnia   \n",
       "tt0110912                                  drug-use       drug-overdose   \n",
       "...                                             ...                 ...   \n",
       "tt3703908                                      girl               house   \n",
       "tt0099951  real-life-siblings-as-fictional-siblings             cockney   \n",
       "tt2054790                                    france     male-pubic-hair   \n",
       "tt0950739                          sword-and-shield              weapon   \n",
       "tt0294594                                  mechanic        hit-by-a-car   \n",
       "\n",
       "                                     4                    5    \\\n",
       "tt0111161           voice-over-narration                1940s   \n",
       "tt0468569            criminal-mastermind         scarred-face   \n",
       "tt1375666                surprise-ending      psycho-thriller   \n",
       "tt0137523  multiple-personality-disorder       based-on-novel   \n",
       "tt0110912                        bondage         drug-dealing   \n",
       "...                                  ...                  ...   \n",
       "tt3703908                         weapon      silencer-pistol   \n",
       "tt0099951                      brutality               boxing   \n",
       "tt2054790                           army  travesty-of-justice   \n",
       "tt0950739                        cavalry              kingdom   \n",
       "tt0294594                         church   strong-female-lead   \n",
       "\n",
       "                                    6                        7    \\\n",
       "tt0111161              police-brutality       prison-cell-search   \n",
       "tt0468569                     superhero            moral-dilemma   \n",
       "tt1375666       strong-female-character             architecture   \n",
       "tt0137523                 group-therapy          anti-conformity   \n",
       "tt0110912                      neo-noir             car-accident   \n",
       "...                                 ...                      ...   \n",
       "tt3703908               silenced-pistol             silenced-gun   \n",
       "tt0099951  brother-brother-relationship  mother-son-relationship   \n",
       "tt2054790                  self-justice          seeking-justice   \n",
       "tt0950739                          king              second-part   \n",
       "tt0294594       strong-female-character                cornfield   \n",
       "\n",
       "                                  8                      9    ...  863  864  \\\n",
       "tt0111161      friendship-between-men             infidelity  ...  NaN  NaN   \n",
       "tt0468569                  clown-mask          dual-identity  ...  NaN  NaN   \n",
       "tt1375666  psychological-manipulation    falling-from-height  ...  NaN  NaN   \n",
       "tt0137523             anti-capitalism   disturbed-individual  ...  NaN  NaN   \n",
       "tt0110912               dance-contest           black-comedy  ...  NaN  NaN   \n",
       "...                               ...                    ...  ...  ...  ...   \n",
       "tt3703908                   year-2015  psychological-warfare  ...  NaN  NaN   \n",
       "tt0099951              london-england            weeping-man  ...  NaN  NaN   \n",
       "tt2054790                     revenge                 murder  ...  NaN  NaN   \n",
       "tt0950739                      sequel         medieval-times  ...  NaN  NaN   \n",
       "tt0294594               electrocution      nuclear-explosion  ...  NaN  NaN   \n",
       "\n",
       "           865  866  867  868  869  870  871  872  \n",
       "tt0111161  NaN  NaN  NaN  NaN  NaN  NaN  NaN  NaN  \n",
       "tt0468569  NaN  NaN  NaN  NaN  NaN  NaN  NaN  NaN  \n",
       "tt1375666  NaN  NaN  NaN  NaN  NaN  NaN  NaN  NaN  \n",
       "tt0137523  NaN  NaN  NaN  NaN  NaN  NaN  NaN  NaN  \n",
       "tt0110912  NaN  NaN  NaN  NaN  NaN  NaN  NaN  NaN  \n",
       "...        ...  ...  ...  ...  ...  ...  ...  ...  \n",
       "tt3703908  NaN  NaN  NaN  NaN  NaN  NaN  NaN  NaN  \n",
       "tt0099951  NaN  NaN  NaN  NaN  NaN  NaN  NaN  NaN  \n",
       "tt2054790  NaN  NaN  NaN  NaN  NaN  NaN  NaN  NaN  \n",
       "tt0950739  NaN  NaN  NaN  NaN  NaN  NaN  NaN  NaN  \n",
       "tt0294594  NaN  NaN  NaN  NaN  NaN  NaN  NaN  NaN  \n",
       "\n",
       "[10000 rows x 873 columns]"
      ]
     },
     "execution_count": 87,
     "metadata": {},
     "output_type": "execute_result"
    }
   ],
   "source": [
    "# Convert dictionary into a Dataframe with each word having their own columns\n",
    "\n",
    "keywords_df = pd.DataFrame(dict([(k, pd.Series(v)) for k,v in keywords_dict.items()])).transpose()\n",
    "keywords_df"
   ]
  },
  {
   "cell_type": "code",
   "execution_count": 88,
   "metadata": {
    "scrolled": true
   },
   "outputs": [],
   "source": [
    "# We will then remove any NaN values, and join each keyword into one string\n",
    "\n",
    "keywords_df = keywords_df.apply(lambda x: ','.join(x.dropna()), axis= 1)"
   ]
  },
  {
   "cell_type": "code",
   "execution_count": 89,
   "metadata": {
    "scrolled": true
   },
   "outputs": [
    {
     "data": {
      "text/plain": [
       "tt0111161    wrongful-imprisonment,based-on-the-works-of-st...\n",
       "tt0468569    dc-comics,joker,psychopath,clown,criminal-mast...\n",
       "tt1375666    dream,ambiguous-ending,subconscious,mindbender...\n",
       "tt0137523    fighting,surprise-ending,anti-establishment,in...\n",
       "tt0110912    nonlinear-timeline,overdose,drug-use,drug-over...\n",
       "dtype: object"
      ]
     },
     "execution_count": 89,
     "metadata": {},
     "output_type": "execute_result"
    }
   ],
   "source": [
    "keywords_df.head()"
   ]
  },
  {
   "cell_type": "code",
   "execution_count": 93,
   "metadata": {
    "scrolled": true
   },
   "outputs": [
    {
     "data": {
      "text/html": [
       "<div>\n",
       "<style scoped>\n",
       "    .dataframe tbody tr th:only-of-type {\n",
       "        vertical-align: middle;\n",
       "    }\n",
       "\n",
       "    .dataframe tbody tr th {\n",
       "        vertical-align: top;\n",
       "    }\n",
       "\n",
       "    .dataframe thead th {\n",
       "        text-align: right;\n",
       "    }\n",
       "</style>\n",
       "<table border=\"1\" class=\"dataframe\">\n",
       "  <thead>\n",
       "    <tr style=\"text-align: right;\">\n",
       "      <th></th>\n",
       "      <th>keywords</th>\n",
       "    </tr>\n",
       "  </thead>\n",
       "  <tbody>\n",
       "    <tr>\n",
       "      <th>tt0111161</th>\n",
       "      <td>wrongful-imprisonment,based-on-the-works-of-st...</td>\n",
       "    </tr>\n",
       "    <tr>\n",
       "      <th>tt0468569</th>\n",
       "      <td>dc-comics,joker,psychopath,clown,criminal-mast...</td>\n",
       "    </tr>\n",
       "    <tr>\n",
       "      <th>tt1375666</th>\n",
       "      <td>dream,ambiguous-ending,subconscious,mindbender...</td>\n",
       "    </tr>\n",
       "    <tr>\n",
       "      <th>tt0137523</th>\n",
       "      <td>fighting,surprise-ending,anti-establishment,in...</td>\n",
       "    </tr>\n",
       "    <tr>\n",
       "      <th>tt0110912</th>\n",
       "      <td>nonlinear-timeline,overdose,drug-use,drug-over...</td>\n",
       "    </tr>\n",
       "  </tbody>\n",
       "</table>\n",
       "</div>"
      ],
      "text/plain": [
       "                                                    keywords\n",
       "tt0111161  wrongful-imprisonment,based-on-the-works-of-st...\n",
       "tt0468569  dc-comics,joker,psychopath,clown,criminal-mast...\n",
       "tt1375666  dream,ambiguous-ending,subconscious,mindbender...\n",
       "tt0137523  fighting,surprise-ending,anti-establishment,in...\n",
       "tt0110912  nonlinear-timeline,overdose,drug-use,drug-over..."
      ]
     },
     "execution_count": 93,
     "metadata": {},
     "output_type": "execute_result"
    }
   ],
   "source": [
    "# Convert back to DataFrame and rename column\n",
    "\n",
    "keywords_df = pd.DataFrame(keywords_df)\n",
    "keywords_df.rename(columns= {0: 'keywords'}, inplace= True)\n",
    "keywords_df.head()"
   ]
  },
  {
   "cell_type": "code",
   "execution_count": 94,
   "metadata": {
    "scrolled": true
   },
   "outputs": [],
   "source": [
    "# Save dataframe to folder so we don't have to re-run above code\n",
    "\n",
    "keywords_df.to_csv(path_or_buf= 'keywords_df.csv')"
   ]
  },
  {
   "cell_type": "code",
   "execution_count": 4,
   "metadata": {
    "scrolled": true
   },
   "outputs": [],
   "source": [
    "# Load csv file\n",
    "\n",
    "keywords_df = pd.read_csv(r'C:\\Users\\Cisco\\OneDrive\\Documents\\Springboard\\Final_Capstone_Project\\keywords_df.csv')"
   ]
  },
  {
   "cell_type": "code",
   "execution_count": 5,
   "metadata": {
    "scrolled": true
   },
   "outputs": [
    {
     "data": {
      "text/html": [
       "<div>\n",
       "<style scoped>\n",
       "    .dataframe tbody tr th:only-of-type {\n",
       "        vertical-align: middle;\n",
       "    }\n",
       "\n",
       "    .dataframe tbody tr th {\n",
       "        vertical-align: top;\n",
       "    }\n",
       "\n",
       "    .dataframe thead th {\n",
       "        text-align: right;\n",
       "    }\n",
       "</style>\n",
       "<table border=\"1\" class=\"dataframe\">\n",
       "  <thead>\n",
       "    <tr style=\"text-align: right;\">\n",
       "      <th></th>\n",
       "      <th>Unnamed: 0</th>\n",
       "      <th>keywords</th>\n",
       "    </tr>\n",
       "  </thead>\n",
       "  <tbody>\n",
       "    <tr>\n",
       "      <th>0</th>\n",
       "      <td>tt0111161</td>\n",
       "      <td>wrongful-imprisonment,based-on-the-works-of-st...</td>\n",
       "    </tr>\n",
       "  </tbody>\n",
       "</table>\n",
       "</div>"
      ],
      "text/plain": [
       "  Unnamed: 0                                           keywords\n",
       "0  tt0111161  wrongful-imprisonment,based-on-the-works-of-st..."
      ]
     },
     "execution_count": 5,
     "metadata": {},
     "output_type": "execute_result"
    }
   ],
   "source": [
    "keywords_df.head(1)"
   ]
  },
  {
   "cell_type": "code",
   "execution_count": 6,
   "metadata": {
    "scrolled": true
   },
   "outputs": [],
   "source": [
    "# Rename column to match that from our original data\n",
    "\n",
    "keywords_df.rename(columns= {'Unnamed: 0': 'imdb_title_id'}, inplace= True)"
   ]
  },
  {
   "cell_type": "code",
   "execution_count": 7,
   "metadata": {
    "scrolled": true
   },
   "outputs": [
    {
     "data": {
      "text/plain": [
       "Index(['imdb_title_id', 'keywords'], dtype='object')"
      ]
     },
     "execution_count": 7,
     "metadata": {},
     "output_type": "execute_result"
    }
   ],
   "source": [
    "keywords_df.columns"
   ]
  },
  {
   "cell_type": "code",
   "execution_count": 8,
   "metadata": {
    "scrolled": true
   },
   "outputs": [],
   "source": [
    "# Set the title id column as the dataframe index\n",
    "\n",
    "keywords_df.set_index('imdb_title_id', inplace= True)"
   ]
  },
  {
   "cell_type": "code",
   "execution_count": 28,
   "metadata": {
    "scrolled": true
   },
   "outputs": [],
   "source": [
    "# Join the keywords_df dataframe with the movies_df dataframe created previously with the matching imdb_title_id\n",
    "\n",
    "movies = movies_df.join(keywords_df, how='inner')"
   ]
  },
  {
   "cell_type": "code",
   "execution_count": 28,
   "metadata": {
    "scrolled": true
   },
   "outputs": [
    {
     "data": {
      "text/html": [
       "<div>\n",
       "<style scoped>\n",
       "    .dataframe tbody tr th:only-of-type {\n",
       "        vertical-align: middle;\n",
       "    }\n",
       "\n",
       "    .dataframe tbody tr th {\n",
       "        vertical-align: top;\n",
       "    }\n",
       "\n",
       "    .dataframe thead th {\n",
       "        text-align: right;\n",
       "    }\n",
       "</style>\n",
       "<table border=\"1\" class=\"dataframe\">\n",
       "  <thead>\n",
       "    <tr style=\"text-align: right;\">\n",
       "      <th></th>\n",
       "      <th>title</th>\n",
       "      <th>year</th>\n",
       "      <th>date_published</th>\n",
       "      <th>genre</th>\n",
       "      <th>duration</th>\n",
       "      <th>country</th>\n",
       "      <th>director</th>\n",
       "      <th>writer</th>\n",
       "      <th>production_company</th>\n",
       "      <th>actors</th>\n",
       "      <th>description</th>\n",
       "      <th>avg_vote</th>\n",
       "      <th>votes</th>\n",
       "      <th>keywords</th>\n",
       "    </tr>\n",
       "    <tr>\n",
       "      <th>imdb_title_id</th>\n",
       "      <th></th>\n",
       "      <th></th>\n",
       "      <th></th>\n",
       "      <th></th>\n",
       "      <th></th>\n",
       "      <th></th>\n",
       "      <th></th>\n",
       "      <th></th>\n",
       "      <th></th>\n",
       "      <th></th>\n",
       "      <th></th>\n",
       "      <th></th>\n",
       "      <th></th>\n",
       "      <th></th>\n",
       "    </tr>\n",
       "  </thead>\n",
       "  <tbody>\n",
       "    <tr>\n",
       "      <th>tt0111161</th>\n",
       "      <td>Le ali della libertà</td>\n",
       "      <td>1994</td>\n",
       "      <td>1995-02-10</td>\n",
       "      <td>Drama</td>\n",
       "      <td>142</td>\n",
       "      <td>USA</td>\n",
       "      <td>Frank Darabont</td>\n",
       "      <td>Stephen King, Frank Darabont</td>\n",
       "      <td>Castle Rock Entertainment</td>\n",
       "      <td>Tim Robbins, Morgan Freeman, Bob Gunton, Willi...</td>\n",
       "      <td>Two imprisoned men bond over a number of years...</td>\n",
       "      <td>9.3</td>\n",
       "      <td>2278845</td>\n",
       "      <td>wrongful-imprisonment,based-on-the-works-of-st...</td>\n",
       "    </tr>\n",
       "  </tbody>\n",
       "</table>\n",
       "</div>"
      ],
      "text/plain": [
       "                              title  year date_published  genre  duration  \\\n",
       "imdb_title_id                                                               \n",
       "tt0111161      Le ali della libertà  1994     1995-02-10  Drama       142   \n",
       "\n",
       "              country        director                        writer  \\\n",
       "imdb_title_id                                                         \n",
       "tt0111161         USA  Frank Darabont  Stephen King, Frank Darabont   \n",
       "\n",
       "                      production_company  \\\n",
       "imdb_title_id                              \n",
       "tt0111161      Castle Rock Entertainment   \n",
       "\n",
       "                                                          actors  \\\n",
       "imdb_title_id                                                      \n",
       "tt0111161      Tim Robbins, Morgan Freeman, Bob Gunton, Willi...   \n",
       "\n",
       "                                                     description  avg_vote  \\\n",
       "imdb_title_id                                                                \n",
       "tt0111161      Two imprisoned men bond over a number of years...       9.3   \n",
       "\n",
       "                 votes                                           keywords  \n",
       "imdb_title_id                                                              \n",
       "tt0111161      2278845  wrongful-imprisonment,based-on-the-works-of-st...  "
      ]
     },
     "execution_count": 28,
     "metadata": {},
     "output_type": "execute_result"
    }
   ],
   "source": [
    "movies.head(1)"
   ]
  },
  {
   "cell_type": "code",
   "execution_count": 80,
   "metadata": {},
   "outputs": [],
   "source": [
    "# Save File\n",
    "\n",
    "movies.to_csv(path_or_buf= 'movies.csv')"
   ]
  },
  {
   "cell_type": "markdown",
   "metadata": {},
   "source": [
    "# 1.2) TV Series"
   ]
  },
  {
   "cell_type": "code",
   "execution_count": 12,
   "metadata": {
    "scrolled": true
   },
   "outputs": [
    {
     "name": "stdout",
     "output_type": "stream",
     "text": [
      "<class 'pandas.core.frame.DataFrame'>\n",
      "RangeIndex: 6679 entries, 0 to 6678\n",
      "Data columns (total 7 columns):\n",
      " #   Column         Non-Null Count  Dtype  \n",
      "---  ------         --------------  -----  \n",
      " 0   tconst         6679 non-null   object \n",
      " 1   primaryTitle   6679 non-null   object \n",
      " 2   genres         6679 non-null   object \n",
      " 3   numVotes       6679 non-null   int64  \n",
      " 4   averageRating  6679 non-null   float64\n",
      " 5   startYear      6678 non-null   float64\n",
      " 6   SeriesName     6679 non-null   object \n",
      "dtypes: float64(2), int64(1), object(4)\n",
      "memory usage: 365.4+ KB\n"
     ]
    }
   ],
   "source": [
    "# For TV series shall perform the same steps as we did in the Section 1.1\n",
    "\n",
    "tv_df = pd.read_csv(r'C:\\Users\\Cisco\\OneDrive\\Documents\\Springboard\\Final_Capstone_Project\\tv_series_data.csv')\n",
    "tv_df.info()"
   ]
  },
  {
   "cell_type": "code",
   "execution_count": 13,
   "metadata": {
    "scrolled": true
   },
   "outputs": [
    {
     "data": {
      "text/html": [
       "<div>\n",
       "<style scoped>\n",
       "    .dataframe tbody tr th:only-of-type {\n",
       "        vertical-align: middle;\n",
       "    }\n",
       "\n",
       "    .dataframe tbody tr th {\n",
       "        vertical-align: top;\n",
       "    }\n",
       "\n",
       "    .dataframe thead th {\n",
       "        text-align: right;\n",
       "    }\n",
       "</style>\n",
       "<table border=\"1\" class=\"dataframe\">\n",
       "  <thead>\n",
       "    <tr style=\"text-align: right;\">\n",
       "      <th></th>\n",
       "      <th>tconst</th>\n",
       "      <th>primaryTitle</th>\n",
       "      <th>genres</th>\n",
       "      <th>numVotes</th>\n",
       "      <th>averageRating</th>\n",
       "      <th>startYear</th>\n",
       "      <th>SeriesName</th>\n",
       "    </tr>\n",
       "  </thead>\n",
       "  <tbody>\n",
       "    <tr>\n",
       "      <th>2615</th>\n",
       "      <td>tt10042110</td>\n",
       "      <td>BOSS: Baap of Special Services</td>\n",
       "      <td>Action</td>\n",
       "      <td>1976</td>\n",
       "      <td>8.0</td>\n",
       "      <td>NaN</td>\n",
       "      <td>BOSS: Baap of Special Services ()</td>\n",
       "    </tr>\n",
       "  </tbody>\n",
       "</table>\n",
       "</div>"
      ],
      "text/plain": [
       "          tconst                    primaryTitle  genres  numVotes  \\\n",
       "2615  tt10042110  BOSS: Baap of Special Services  Action      1976   \n",
       "\n",
       "      averageRating  startYear                         SeriesName  \n",
       "2615            8.0        NaN  BOSS: Baap of Special Services ()  "
      ]
     },
     "execution_count": 13,
     "metadata": {},
     "output_type": "execute_result"
    }
   ],
   "source": [
    "# Look for any NaN values\n",
    "\n",
    "tv_df.loc[tv_df.startYear.isna()]"
   ]
  },
  {
   "cell_type": "code",
   "execution_count": 14,
   "metadata": {
    "scrolled": true
   },
   "outputs": [],
   "source": [
    "# Replace NaN value with the year the tv series came out\n",
    "\n",
    "tv_df.startYear.fillna(2019, inplace= True)"
   ]
  },
  {
   "cell_type": "code",
   "execution_count": 15,
   "metadata": {
    "scrolled": true
   },
   "outputs": [],
   "source": [
    "# Change data type in column to integer\n",
    "\n",
    "tv_df.startYear = tv_df.startYear.astype(int)"
   ]
  },
  {
   "cell_type": "code",
   "execution_count": 16,
   "metadata": {
    "scrolled": true
   },
   "outputs": [
    {
     "name": "stdout",
     "output_type": "stream",
     "text": [
      "<class 'pandas.core.frame.DataFrame'>\n",
      "RangeIndex: 6679 entries, 0 to 6678\n",
      "Data columns (total 7 columns):\n",
      " #   Column         Non-Null Count  Dtype  \n",
      "---  ------         --------------  -----  \n",
      " 0   tconst         6679 non-null   object \n",
      " 1   primaryTitle   6679 non-null   object \n",
      " 2   genres         6679 non-null   object \n",
      " 3   numVotes       6679 non-null   int64  \n",
      " 4   averageRating  6679 non-null   float64\n",
      " 5   startYear      6679 non-null   int32  \n",
      " 6   SeriesName     6679 non-null   object \n",
      "dtypes: float64(1), int32(1), int64(1), object(4)\n",
      "memory usage: 339.3+ KB\n"
     ]
    }
   ],
   "source": [
    "tv_df.info()"
   ]
  },
  {
   "cell_type": "code",
   "execution_count": 17,
   "metadata": {
    "scrolled": true
   },
   "outputs": [
    {
     "data": {
      "text/plain": [
       "(6679, 7)"
      ]
     },
     "execution_count": 17,
     "metadata": {},
     "output_type": "execute_result"
    }
   ],
   "source": [
    "tv_df.shape"
   ]
  },
  {
   "cell_type": "code",
   "execution_count": 18,
   "metadata": {
    "scrolled": true
   },
   "outputs": [],
   "source": [
    "# Sort dataframe in ascending order from most votes to least - Although not entirely necessary for the tv datafram\n",
    "\n",
    "tv_df = tv_df.sort_values('numVotes', ascending= False)"
   ]
  },
  {
   "cell_type": "code",
   "execution_count": 19,
   "metadata": {
    "scrolled": true
   },
   "outputs": [],
   "source": [
    "# Change name of column with id values\n",
    "\n",
    "tv_df.rename(columns= {'tconst': 'imdb_tv_id'}, inplace= True)"
   ]
  },
  {
   "cell_type": "code",
   "execution_count": 20,
   "metadata": {
    "scrolled": true
   },
   "outputs": [],
   "source": [
    "# Set the IDs of each TV series to index\n",
    "\n",
    "tv_df.set_index('imdb_tv_id', inplace= True)"
   ]
  },
  {
   "cell_type": "code",
   "execution_count": 21,
   "metadata": {
    "scrolled": true
   },
   "outputs": [
    {
     "data": {
      "text/html": [
       "<div>\n",
       "<style scoped>\n",
       "    .dataframe tbody tr th:only-of-type {\n",
       "        vertical-align: middle;\n",
       "    }\n",
       "\n",
       "    .dataframe tbody tr th {\n",
       "        vertical-align: top;\n",
       "    }\n",
       "\n",
       "    .dataframe thead th {\n",
       "        text-align: right;\n",
       "    }\n",
       "</style>\n",
       "<table border=\"1\" class=\"dataframe\">\n",
       "  <thead>\n",
       "    <tr style=\"text-align: right;\">\n",
       "      <th></th>\n",
       "      <th>primaryTitle</th>\n",
       "      <th>genres</th>\n",
       "      <th>numVotes</th>\n",
       "      <th>averageRating</th>\n",
       "      <th>startYear</th>\n",
       "      <th>SeriesName</th>\n",
       "    </tr>\n",
       "    <tr>\n",
       "      <th>imdb_tv_id</th>\n",
       "      <th></th>\n",
       "      <th></th>\n",
       "      <th></th>\n",
       "      <th></th>\n",
       "      <th></th>\n",
       "      <th></th>\n",
       "    </tr>\n",
       "  </thead>\n",
       "  <tbody>\n",
       "    <tr>\n",
       "      <th>tt0944947</th>\n",
       "      <td>Game of Thrones</td>\n",
       "      <td>Action,Adventure,Drama</td>\n",
       "      <td>1760872</td>\n",
       "      <td>9.3</td>\n",
       "      <td>2011</td>\n",
       "      <td>Game of Thrones (2011)</td>\n",
       "    </tr>\n",
       "  </tbody>\n",
       "</table>\n",
       "</div>"
      ],
      "text/plain": [
       "               primaryTitle                  genres  numVotes  averageRating  \\\n",
       "imdb_tv_id                                                                     \n",
       "tt0944947   Game of Thrones  Action,Adventure,Drama   1760872            9.3   \n",
       "\n",
       "            startYear              SeriesName  \n",
       "imdb_tv_id                                     \n",
       "tt0944947        2011  Game of Thrones (2011)  "
      ]
     },
     "execution_count": 21,
     "metadata": {},
     "output_type": "execute_result"
    }
   ],
   "source": [
    "tv_df.head(1)"
   ]
  },
  {
   "cell_type": "code",
   "execution_count": 15,
   "metadata": {
    "scrolled": true
   },
   "outputs": [],
   "source": [
    "# Make a separate list of the IDs of each tv series\n",
    "\n",
    "tv_indexes = tv_df.index"
   ]
  },
  {
   "cell_type": "code",
   "execution_count": 16,
   "metadata": {
    "scrolled": true
   },
   "outputs": [
    {
     "data": {
      "text/plain": [
       "Index(['tt0944947', 'tt0903747', 'tt1520211', 'tt0108778', 'tt4574334',\n",
       "       'tt1475582', 'tt0898266', 'tt0773262', 'tt0460649', 'tt7366338',\n",
       "       ...\n",
       "       'tt0239185', 'tt0294177', 'tt0053496', 'tt0457544', 'tt0448300',\n",
       "       'tt2256612', 'tt0158421', 'tt1872328', 'tt1329291', 'tt0163488'],\n",
       "      dtype='object', name='imdb_tv_id', length=6679)"
      ]
     },
     "execution_count": 16,
     "metadata": {},
     "output_type": "execute_result"
    }
   ],
   "source": [
    "tv_indexes"
   ]
  },
  {
   "cell_type": "code",
   "execution_count": 23,
   "metadata": {
    "scrolled": true
   },
   "outputs": [
    {
     "name": "stderr",
     "output_type": "stream",
     "text": [
      " 36%|███▌      | 2384/6679 [24:19<1:03:26,  1.13it/s]2021-06-29 20:37:54,515 CRITICAL [imdbpy] C:\\Users\\Cisco\\anaconda3\\lib\\site-packages\\imdb\\_exceptions.py:34: IMDbDataAccessError exception raised; args: ({'errcode': None, 'errmsg': 'None', 'url': 'https://www.imdb.com/title/tt0088580/keywords', 'proxy': '', 'exception type': 'IOError', 'original exception': timeout('The read operation timed out')},); kwds: {}\n",
      "Traceback (most recent call last):\n",
      "  File \"C:\\Users\\Cisco\\anaconda3\\lib\\site-packages\\imdb\\parser\\http\\__init__.py\", line 220, in retrieve_unicode\n",
      "    response = uopener.open(url)\n",
      "  File \"C:\\Users\\Cisco\\anaconda3\\lib\\urllib\\request.py\", line 525, in open\n",
      "    response = self._open(req, data)\n",
      "  File \"C:\\Users\\Cisco\\anaconda3\\lib\\urllib\\request.py\", line 543, in _open\n",
      "    '_open', req)\n",
      "  File \"C:\\Users\\Cisco\\anaconda3\\lib\\urllib\\request.py\", line 503, in _call_chain\n",
      "    result = func(*args)\n",
      "  File \"C:\\Users\\Cisco\\anaconda3\\lib\\urllib\\request.py\", line 1362, in https_open\n",
      "    context=self._context, check_hostname=self._check_hostname)\n",
      "  File \"C:\\Users\\Cisco\\anaconda3\\lib\\urllib\\request.py\", line 1322, in do_open\n",
      "    r = h.getresponse()\n",
      "  File \"C:\\Users\\Cisco\\anaconda3\\lib\\http\\client.py\", line 1344, in getresponse\n",
      "    response.begin()\n",
      "  File \"C:\\Users\\Cisco\\anaconda3\\lib\\http\\client.py\", line 306, in begin\n",
      "    version, status, reason = self._read_status()\n",
      "  File \"C:\\Users\\Cisco\\anaconda3\\lib\\http\\client.py\", line 267, in _read_status\n",
      "    line = str(self.fp.readline(_MAXLINE + 1), \"iso-8859-1\")\n",
      "  File \"C:\\Users\\Cisco\\anaconda3\\lib\\socket.py\", line 589, in readinto\n",
      "    return self._sock.recv_into(b)\n",
      "  File \"C:\\Users\\Cisco\\anaconda3\\lib\\ssl.py\", line 1071, in recv_into\n",
      "    return self.read(nbytes, buffer)\n",
      "  File \"C:\\Users\\Cisco\\anaconda3\\lib\\ssl.py\", line 929, in read\n",
      "    return self._sslobj.read(len, buffer)\n",
      "socket.timeout: The read operation timed out\n",
      "100%|██████████| 6679/6679 [1:12:01<00:00,  1.55it/s] \n"
     ]
    }
   ],
   "source": [
    "# Make a dictionary to store keywords from API with respect to their imbd id number\n",
    "\n",
    "tv_keywords_dict= {}\n",
    "\n",
    "for tv_index in tqdm(tv_indexes):\n",
    "    try:\n",
    "        tv_keywords_dict[tv_index] = ia.get_movie_keywords(tv_index[2: ])['data']['keywords']\n",
    "    except:\n",
    "        tv_keywords_dict[tv_index] = ''"
   ]
  },
  {
   "cell_type": "code",
   "execution_count": 25,
   "metadata": {
    "scrolled": true
   },
   "outputs": [],
   "source": [
    "# Convert dictionary into a Dataframe with each word having their own columns\n",
    "# Rejoin each keyword into a string \n",
    "\n",
    "tv_keywords_df = pd.DataFrame(dict([(k, pd.Series(v)) for k,v in tv_keywords_dict.items()])).transpose()\n",
    "tv_keywords_df = tv_keywords_df.apply(lambda x: ','.join(x.dropna()), axis= 1)"
   ]
  },
  {
   "cell_type": "code",
   "execution_count": 26,
   "metadata": {
    "scrolled": true
   },
   "outputs": [],
   "source": [
    "# Return data to dataframe mode\n",
    "# Rename columns appropriately\n",
    "\n",
    "tv_keywords_df = pd.DataFrame(tv_keywords_df)\n",
    "tv_keywords_df.rename(columns= {0: 'tv_keywords'}, inplace= True)"
   ]
  },
  {
   "cell_type": "code",
   "execution_count": 27,
   "metadata": {
    "scrolled": true
   },
   "outputs": [],
   "source": [
    "# Save data to folder\n",
    "\n",
    "tv_keywords_df.to_csv(path_or_buf= 'tv_keywords_df.csv')"
   ]
  },
  {
   "cell_type": "code",
   "execution_count": 5,
   "metadata": {
    "scrolled": true
   },
   "outputs": [],
   "source": [
    "# Load data to folder\n",
    "\n",
    "tv_keywords_df = pd.read_csv(r'C:\\Users\\Cisco\\OneDrive\\Documents\\Springboard\\Final_Capstone_Project\\tv_keywords_df.csv')"
   ]
  },
  {
   "cell_type": "code",
   "execution_count": 6,
   "metadata": {
    "scrolled": true
   },
   "outputs": [],
   "source": [
    "# With the data loaded we can rename the columns of IDs appropriately\n",
    "\n",
    "tv_keywords_df.rename(columns= {'Unnamed: 0': 'imdb_tv_id'}, inplace= True)"
   ]
  },
  {
   "cell_type": "code",
   "execution_count": 7,
   "metadata": {
    "scrolled": true
   },
   "outputs": [
    {
     "data": {
      "text/html": [
       "<div>\n",
       "<style scoped>\n",
       "    .dataframe tbody tr th:only-of-type {\n",
       "        vertical-align: middle;\n",
       "    }\n",
       "\n",
       "    .dataframe tbody tr th {\n",
       "        vertical-align: top;\n",
       "    }\n",
       "\n",
       "    .dataframe thead th {\n",
       "        text-align: right;\n",
       "    }\n",
       "</style>\n",
       "<table border=\"1\" class=\"dataframe\">\n",
       "  <thead>\n",
       "    <tr style=\"text-align: right;\">\n",
       "      <th></th>\n",
       "      <th>imdb_tv_id</th>\n",
       "      <th>tv_keywords</th>\n",
       "    </tr>\n",
       "  </thead>\n",
       "  <tbody>\n",
       "    <tr>\n",
       "      <th>0</th>\n",
       "      <td>tt0944947</td>\n",
       "      <td>based-on-novel,dragon,politics,nudity,queen,in...</td>\n",
       "    </tr>\n",
       "    <tr>\n",
       "      <th>1</th>\n",
       "      <td>tt0903747</td>\n",
       "      <td>cancer,crystal-meth,albuquerque-new-mexico,che...</td>\n",
       "    </tr>\n",
       "    <tr>\n",
       "      <th>2</th>\n",
       "      <td>tt1520211</td>\n",
       "      <td>zombie,survival,post-apocalypse,based-on-comic...</td>\n",
       "    </tr>\n",
       "    <tr>\n",
       "      <th>3</th>\n",
       "      <td>tt0108778</td>\n",
       "      <td>friendship,friend,new-york-city,roommate,divor...</td>\n",
       "    </tr>\n",
       "    <tr>\n",
       "      <th>4</th>\n",
       "      <td>tt4574334</td>\n",
       "      <td>government-conspiracy,cover-up,1980s,mk-ultra,...</td>\n",
       "    </tr>\n",
       "  </tbody>\n",
       "</table>\n",
       "</div>"
      ],
      "text/plain": [
       "  imdb_tv_id                                        tv_keywords\n",
       "0  tt0944947  based-on-novel,dragon,politics,nudity,queen,in...\n",
       "1  tt0903747  cancer,crystal-meth,albuquerque-new-mexico,che...\n",
       "2  tt1520211  zombie,survival,post-apocalypse,based-on-comic...\n",
       "3  tt0108778  friendship,friend,new-york-city,roommate,divor...\n",
       "4  tt4574334  government-conspiracy,cover-up,1980s,mk-ultra,..."
      ]
     },
     "execution_count": 7,
     "metadata": {},
     "output_type": "execute_result"
    }
   ],
   "source": [
    "tv_keywords_df.head()"
   ]
  },
  {
   "cell_type": "code",
   "execution_count": 8,
   "metadata": {
    "scrolled": true
   },
   "outputs": [
    {
     "data": {
      "text/plain": [
       "(6679, 2)"
      ]
     },
     "execution_count": 8,
     "metadata": {},
     "output_type": "execute_result"
    }
   ],
   "source": [
    "tv_keywords_df.shape"
   ]
  },
  {
   "cell_type": "code",
   "execution_count": 9,
   "metadata": {
    "scrolled": false
   },
   "outputs": [],
   "source": [
    "tv_keywords_df.set_index('imdb_tv_id', inplace= True)"
   ]
  },
  {
   "cell_type": "code",
   "execution_count": 22,
   "metadata": {
    "scrolled": true
   },
   "outputs": [],
   "source": [
    "tv_series = tv_df.join(tv_keywords_df, how='inner')"
   ]
  },
  {
   "cell_type": "code",
   "execution_count": 23,
   "metadata": {
    "scrolled": true
   },
   "outputs": [
    {
     "data": {
      "text/html": [
       "<div>\n",
       "<style scoped>\n",
       "    .dataframe tbody tr th:only-of-type {\n",
       "        vertical-align: middle;\n",
       "    }\n",
       "\n",
       "    .dataframe tbody tr th {\n",
       "        vertical-align: top;\n",
       "    }\n",
       "\n",
       "    .dataframe thead th {\n",
       "        text-align: right;\n",
       "    }\n",
       "</style>\n",
       "<table border=\"1\" class=\"dataframe\">\n",
       "  <thead>\n",
       "    <tr style=\"text-align: right;\">\n",
       "      <th></th>\n",
       "      <th>primaryTitle</th>\n",
       "      <th>genres</th>\n",
       "      <th>numVotes</th>\n",
       "      <th>averageRating</th>\n",
       "      <th>startYear</th>\n",
       "      <th>SeriesName</th>\n",
       "      <th>tv_keywords</th>\n",
       "    </tr>\n",
       "    <tr>\n",
       "      <th>imdb_tv_id</th>\n",
       "      <th></th>\n",
       "      <th></th>\n",
       "      <th></th>\n",
       "      <th></th>\n",
       "      <th></th>\n",
       "      <th></th>\n",
       "      <th></th>\n",
       "    </tr>\n",
       "  </thead>\n",
       "  <tbody>\n",
       "    <tr>\n",
       "      <th>tt0944947</th>\n",
       "      <td>Game of Thrones</td>\n",
       "      <td>Action,Adventure,Drama</td>\n",
       "      <td>1760872</td>\n",
       "      <td>9.3</td>\n",
       "      <td>2011</td>\n",
       "      <td>Game of Thrones (2011)</td>\n",
       "      <td>based-on-novel,dragon,politics,nudity,queen,in...</td>\n",
       "    </tr>\n",
       "    <tr>\n",
       "      <th>tt0903747</th>\n",
       "      <td>Breaking Bad</td>\n",
       "      <td>Crime,Drama,Thriller</td>\n",
       "      <td>1454727</td>\n",
       "      <td>9.5</td>\n",
       "      <td>2008</td>\n",
       "      <td>Breaking Bad (2008)</td>\n",
       "      <td>cancer,crystal-meth,albuquerque-new-mexico,che...</td>\n",
       "    </tr>\n",
       "    <tr>\n",
       "      <th>tt1520211</th>\n",
       "      <td>The Walking Dead</td>\n",
       "      <td>Drama,Horror,Thriller</td>\n",
       "      <td>850008</td>\n",
       "      <td>8.2</td>\n",
       "      <td>2010</td>\n",
       "      <td>The Walking Dead (2010)</td>\n",
       "      <td>zombie,survival,post-apocalypse,based-on-comic...</td>\n",
       "    </tr>\n",
       "    <tr>\n",
       "      <th>tt0108778</th>\n",
       "      <td>Friends</td>\n",
       "      <td>Comedy,Romance</td>\n",
       "      <td>822174</td>\n",
       "      <td>8.9</td>\n",
       "      <td>1994</td>\n",
       "      <td>Friends (1994)</td>\n",
       "      <td>friendship,friend,new-york-city,roommate,divor...</td>\n",
       "    </tr>\n",
       "    <tr>\n",
       "      <th>tt4574334</th>\n",
       "      <td>Stranger Things</td>\n",
       "      <td>Drama,Fantasy,Horror</td>\n",
       "      <td>815075</td>\n",
       "      <td>8.7</td>\n",
       "      <td>2016</td>\n",
       "      <td>Stranger Things (2016)</td>\n",
       "      <td>government-conspiracy,cover-up,1980s,mk-ultra,...</td>\n",
       "    </tr>\n",
       "    <tr>\n",
       "      <th>...</th>\n",
       "      <td>...</td>\n",
       "      <td>...</td>\n",
       "      <td>...</td>\n",
       "      <td>...</td>\n",
       "      <td>...</td>\n",
       "      <td>...</td>\n",
       "      <td>...</td>\n",
       "    </tr>\n",
       "    <tr>\n",
       "      <th>tt2256612</th>\n",
       "      <td>Crimi Clowns</td>\n",
       "      <td>Comedy,Crime,Thriller</td>\n",
       "      <td>1002</td>\n",
       "      <td>8.1</td>\n",
       "      <td>2012</td>\n",
       "      <td>Crimi Clowns (2012)</td>\n",
       "      <td>NaN</td>\n",
       "    </tr>\n",
       "    <tr>\n",
       "      <th>tt0158421</th>\n",
       "      <td>Vengeance Unlimited</td>\n",
       "      <td>Crime,Drama</td>\n",
       "      <td>1001</td>\n",
       "      <td>8.8</td>\n",
       "      <td>1998</td>\n",
       "      <td>Vengeance Unlimited (1998)</td>\n",
       "      <td>1990s,vengeance,revenge</td>\n",
       "    </tr>\n",
       "    <tr>\n",
       "      <th>tt1872328</th>\n",
       "      <td>Gosick</td>\n",
       "      <td>Animation,Comedy,Drama</td>\n",
       "      <td>1001</td>\n",
       "      <td>7.4</td>\n",
       "      <td>2011</td>\n",
       "      <td>Gosick (2011)</td>\n",
       "      <td>anime,year-1924,fictional-country,europe,japan...</td>\n",
       "    </tr>\n",
       "    <tr>\n",
       "      <th>tt1329291</th>\n",
       "      <td>Steven Seagal: Lawman</td>\n",
       "      <td>Reality-TV</td>\n",
       "      <td>1001</td>\n",
       "      <td>6.1</td>\n",
       "      <td>2009</td>\n",
       "      <td>Steven Seagal: Lawman (2009)</td>\n",
       "      <td>louisiana,actor-playing-himself,part-time-job,...</td>\n",
       "    </tr>\n",
       "    <tr>\n",
       "      <th>tt0163488</th>\n",
       "      <td>Robot Wars</td>\n",
       "      <td>Action,Game-Show</td>\n",
       "      <td>1001</td>\n",
       "      <td>7.3</td>\n",
       "      <td>1998</td>\n",
       "      <td>Robot Wars (1998)</td>\n",
       "      <td>g4tv,robot,remote-control,fighting-game,non-fi...</td>\n",
       "    </tr>\n",
       "  </tbody>\n",
       "</table>\n",
       "<p>6679 rows × 7 columns</p>\n",
       "</div>"
      ],
      "text/plain": [
       "                     primaryTitle                  genres  numVotes  \\\n",
       "imdb_tv_id                                                            \n",
       "tt0944947         Game of Thrones  Action,Adventure,Drama   1760872   \n",
       "tt0903747            Breaking Bad    Crime,Drama,Thriller   1454727   \n",
       "tt1520211        The Walking Dead   Drama,Horror,Thriller    850008   \n",
       "tt0108778                 Friends          Comedy,Romance    822174   \n",
       "tt4574334         Stranger Things    Drama,Fantasy,Horror    815075   \n",
       "...                           ...                     ...       ...   \n",
       "tt2256612            Crimi Clowns   Comedy,Crime,Thriller      1002   \n",
       "tt0158421     Vengeance Unlimited             Crime,Drama      1001   \n",
       "tt1872328                  Gosick  Animation,Comedy,Drama      1001   \n",
       "tt1329291   Steven Seagal: Lawman              Reality-TV      1001   \n",
       "tt0163488              Robot Wars        Action,Game-Show      1001   \n",
       "\n",
       "            averageRating  startYear                    SeriesName  \\\n",
       "imdb_tv_id                                                           \n",
       "tt0944947             9.3       2011        Game of Thrones (2011)   \n",
       "tt0903747             9.5       2008           Breaking Bad (2008)   \n",
       "tt1520211             8.2       2010       The Walking Dead (2010)   \n",
       "tt0108778             8.9       1994                Friends (1994)   \n",
       "tt4574334             8.7       2016        Stranger Things (2016)   \n",
       "...                   ...        ...                           ...   \n",
       "tt2256612             8.1       2012           Crimi Clowns (2012)   \n",
       "tt0158421             8.8       1998    Vengeance Unlimited (1998)   \n",
       "tt1872328             7.4       2011                 Gosick (2011)   \n",
       "tt1329291             6.1       2009  Steven Seagal: Lawman (2009)   \n",
       "tt0163488             7.3       1998             Robot Wars (1998)   \n",
       "\n",
       "                                                  tv_keywords  \n",
       "imdb_tv_id                                                     \n",
       "tt0944947   based-on-novel,dragon,politics,nudity,queen,in...  \n",
       "tt0903747   cancer,crystal-meth,albuquerque-new-mexico,che...  \n",
       "tt1520211   zombie,survival,post-apocalypse,based-on-comic...  \n",
       "tt0108778   friendship,friend,new-york-city,roommate,divor...  \n",
       "tt4574334   government-conspiracy,cover-up,1980s,mk-ultra,...  \n",
       "...                                                       ...  \n",
       "tt2256612                                                 NaN  \n",
       "tt0158421                             1990s,vengeance,revenge  \n",
       "tt1872328   anime,year-1924,fictional-country,europe,japan...  \n",
       "tt1329291   louisiana,actor-playing-himself,part-time-job,...  \n",
       "tt0163488   g4tv,robot,remote-control,fighting-game,non-fi...  \n",
       "\n",
       "[6679 rows x 7 columns]"
      ]
     },
     "execution_count": 23,
     "metadata": {},
     "output_type": "execute_result"
    }
   ],
   "source": [
    "tv_series"
   ]
  },
  {
   "cell_type": "code",
   "execution_count": 24,
   "metadata": {},
   "outputs": [],
   "source": [
    "# Save TV file\n",
    "\n",
    "tv_series.to_csv(path_or_buf= 'tv_series.csv')"
   ]
  },
  {
   "cell_type": "markdown",
   "metadata": {},
   "source": [
    "# 2) Exploratory Data Analysis"
   ]
  },
  {
   "cell_type": "markdown",
   "metadata": {},
   "source": [
    "#   2.1) Movies"
   ]
  },
  {
   "cell_type": "code",
   "execution_count": 98,
   "metadata": {
    "scrolled": true
   },
   "outputs": [
    {
     "name": "stdout",
     "output_type": "stream",
     "text": [
      "nan\n",
      "nan\n",
      "nan\n",
      "nan\n",
      "nan\n",
      "nan\n",
      "nan\n",
      "nan\n",
      "nan\n",
      "nan\n"
     ]
    }
   ],
   "source": [
    "# Checking to see which keywords will fail my for-loop for finding length of characters in keyword\n",
    "\n",
    "for keywords in movies['keywords']:\n",
    "    if isinstance(keywords, float) : \n",
    "        print(keywords)\n",
    "    else:\n",
    "        continue\n",
    "    \n",
    "    "
   ]
  },
  {
   "cell_type": "code",
   "execution_count": 78,
   "metadata": {
    "scrolled": true
   },
   "outputs": [
    {
     "data": {
      "text/plain": [
       "False    10000\n",
       "Name: keywords, dtype: int64"
      ]
     },
     "execution_count": 78,
     "metadata": {},
     "output_type": "execute_result"
    }
   ],
   "source": [
    "# Change the NaN values to 'None'\n",
    "\n",
    "movies.keywords.fillna('None', inplace= True)\n",
    "movies.keywords.isnull().value_counts()"
   ]
  },
  {
   "cell_type": "code",
   "execution_count": 172,
   "metadata": {},
   "outputs": [
    {
     "data": {
      "image/png": "[encoded data removed]",
      "text/plain": [
       "<Figure size 432x288 with 1 Axes>"
      ]
     },
     "metadata": {
      "needs_background": "light"
     },
     "output_type": "display_data"
    }
   ],
   "source": [
    "# A for-loop to get length of the keywords of each movie\n",
    "\n",
    "movie_char_count = []\n",
    "\n",
    "for keywords in movies['keywords']:\n",
    "    n_char = len(keywords)\n",
    "    movie_char_count.append(n_char)\n",
    "    \n",
    "_ = sns.histplot(movie_char_count)\n",
    "_ = plt.ylabel('Number of Movies')\n",
    "_ = plt.xlabel('Character Number on Keywords Column')\n",
    "_ = plt.title('Number of Characters in Keywords of Movies')"
   ]
  },
  {
   "cell_type": "code",
   "execution_count": 142,
   "metadata": {
    "scrolled": true
   },
   "outputs": [
    {
     "name": "stdout",
     "output_type": "stream",
     "text": [
      "1910.8302\n"
     ]
    }
   ],
   "source": [
    "print(np.mean(movie_char_count))"
   ]
  },
  {
   "cell_type": "code",
   "execution_count": null,
   "metadata": {},
   "outputs": [],
   "source": [
    "# We can see from the chart and the average number of characters in the keywords that the distribution is right tailed."
   ]
  },
  {
   "cell_type": "code",
   "execution_count": 167,
   "metadata": {},
   "outputs": [
    {
     "data": {
      "image/png": "[encoded data removed]",
      "text/plain": [
       "<Figure size 432x288 with 1 Axes>"
      ]
     },
     "metadata": {
      "needs_background": "light"
     },
     "output_type": "display_data"
    }
   ],
   "source": [
    "# We'll do the same now, except we will use the number of words instead\n",
    "\n",
    "movie_word_count = []\n",
    "\n",
    "for keyword in movies['keywords']:\n",
    "    word_count = len(keyword.split(','))\n",
    "    movie_word_count.append(word_count)\n",
    "    \n",
    "_ = sns.histplot(movie_word_count)\n",
    "_ = plt.ylabel('Number of Movies')\n",
    "_ = plt.xlabel('Number of Words in Keywords Column')\n",
    "_ = plt.title('Number of Words in Keywords per Movie')"
   ]
  },
  {
   "cell_type": "code",
   "execution_count": 146,
   "metadata": {},
   "outputs": [
    {
     "name": "stdout",
     "output_type": "stream",
     "text": [
      "143.1864\n"
     ]
    }
   ],
   "source": [
    "print(np.mean(movie_word_count))"
   ]
  },
  {
   "cell_type": "markdown",
   "metadata": {},
   "source": [
    " As shown above, the distribution of the graph is right tailed. This makes sense as they are intuitively correlated.\n",
    " This tells us that alot of the movies have relatively low amount of keywords"
   ]
  },
  {
   "cell_type": "markdown",
   "metadata": {},
   "source": [
    "# 2.2) TV Series"
   ]
  },
  {
   "cell_type": "code",
   "execution_count": 25,
   "metadata": {},
   "outputs": [
    {
     "data": {
      "text/plain": [
       "False    6679\n",
       "Name: tv_keywords, dtype: int64"
      ]
     },
     "execution_count": 25,
     "metadata": {},
     "output_type": "execute_result"
    }
   ],
   "source": [
    "# We shall perform the same steps as we did in the Movie section\n",
    "\n",
    "tv_series.tv_keywords.fillna('None', inplace= True)\n",
    "tv_series.tv_keywords.isnull().value_counts()"
   ]
  },
  {
   "cell_type": "code",
   "execution_count": 58,
   "metadata": {},
   "outputs": [
    {
     "data": {
      "image/png": "[encoded data removed]",
      "text/plain": [
       "<Figure size 432x288 with 1 Axes>"
      ]
     },
     "metadata": {
      "needs_background": "light"
     },
     "output_type": "display_data"
    }
   ],
   "source": [
    "\n",
    "tv_char_count = []\n",
    "\n",
    "for tv_keyword in tv_series['tv_keywords']:\n",
    "    n_char = len(tv_keyword)\n",
    "    tv_char_count.append(n_char)\n",
    "    \n",
    "_ = sns.histplot(tv_char_count, bins= 30)\n",
    "_ = plt.ylabel('Number of TV_series')\n",
    "_ = plt.xlabel('Character Number on Keywords Column')\n",
    "_ = plt.title('Number of Characted of Keywords in TV Series')"
   ]
  },
  {
   "cell_type": "code",
   "execution_count": 59,
   "metadata": {},
   "outputs": [
    {
     "name": "stdout",
     "output_type": "stream",
     "text": [
      "291.2486899236413\n"
     ]
    }
   ],
   "source": [
    "print(np.mean(tv_char_count))"
   ]
  },
  {
   "cell_type": "markdown",
   "metadata": {},
   "source": [
    " The distribution of the graph is right tailed with majority of the tv series having less that 250 characters in their\n",
    " keywords"
   ]
  },
  {
   "cell_type": "code",
   "execution_count": 60,
   "metadata": {},
   "outputs": [
    {
     "data": {
      "image/png": "[encoded data removed]",
      "text/plain": [
       "<Figure size 432x288 with 1 Axes>"
      ]
     },
     "metadata": {
      "needs_background": "light"
     },
     "output_type": "display_data"
    }
   ],
   "source": [
    "tv_word_count = []\n",
    "for tv_keyword in tv_series['tv_keywords']:\n",
    "    word_count = len(tv_keyword.split(','))\n",
    "    tv_word_count.append(word_count)\n",
    "    \n",
    "_ = sns.histplot(tv_word_count, bins= 30)\n",
    "_ = plt.ylabel('Number of TV Series')\n",
    "_ = plt.xlabel('Number of Words in TV_Keywords Columns')\n",
    "_ = plt.title('Number of Words in Keywords per TV_Series')"
   ]
  },
  {
   "cell_type": "code",
   "execution_count": 61,
   "metadata": {},
   "outputs": [
    {
     "name": "stdout",
     "output_type": "stream",
     "text": [
      "22.00853421170834\n"
     ]
    }
   ],
   "source": [
    "print(np.mean(tv_word_count))"
   ]
  },
  {
   "cell_type": "code",
   "execution_count": 26,
   "metadata": {},
   "outputs": [],
   "source": [
    "# Save file\n",
    "\n",
    "tv_series.to_csv(path_or_buf= 'tv_series.csv')"
   ]
  },
  {
   "cell_type": "markdown",
   "metadata": {},
   "source": [
    "The graph above is right tailed with majority of the movies having less that 20 keywords"
   ]
  },
  {
   "cell_type": "markdown",
   "metadata": {},
   "source": [
    "# 3) Preprocessing"
   ]
  },
  {
   "cell_type": "markdown",
   "metadata": {},
   "source": [
    "# 3.1) Movies"
   ]
  },
  {
   "cell_type": "code",
   "execution_count": 6,
   "metadata": {},
   "outputs": [],
   "source": [
    "# Load movie file from Section 1.1\n",
    "\n",
    "movies = pd.read_csv(r'C:\\Users\\Cisco\\OneDrive\\Documents\\Springboard\\Final_Capstone_Project\\movies.csv')"
   ]
  },
  {
   "cell_type": "code",
   "execution_count": 49,
   "metadata": {
    "scrolled": true
   },
   "outputs": [
    {
     "data": {
      "text/html": [
       "<div>\n",
       "<style scoped>\n",
       "    .dataframe tbody tr th:only-of-type {\n",
       "        vertical-align: middle;\n",
       "    }\n",
       "\n",
       "    .dataframe tbody tr th {\n",
       "        vertical-align: top;\n",
       "    }\n",
       "\n",
       "    .dataframe thead th {\n",
       "        text-align: right;\n",
       "    }\n",
       "</style>\n",
       "<table border=\"1\" class=\"dataframe\">\n",
       "  <thead>\n",
       "    <tr style=\"text-align: right;\">\n",
       "      <th></th>\n",
       "      <th>Unnamed: 0</th>\n",
       "      <th>title</th>\n",
       "      <th>keywords</th>\n",
       "      <th>type</th>\n",
       "    </tr>\n",
       "  </thead>\n",
       "  <tbody>\n",
       "    <tr>\n",
       "      <th>0</th>\n",
       "      <td>0</td>\n",
       "      <td>Le ali della libertà</td>\n",
       "      <td>wrongful-imprisonment,based-on-the-works-of-st...</td>\n",
       "      <td>Movies</td>\n",
       "    </tr>\n",
       "    <tr>\n",
       "      <th>1</th>\n",
       "      <td>1</td>\n",
       "      <td>Il cavaliere oscuro</td>\n",
       "      <td>dc-comics,joker,psychopath,clown,criminal-mast...</td>\n",
       "      <td>Movies</td>\n",
       "    </tr>\n",
       "    <tr>\n",
       "      <th>2</th>\n",
       "      <td>2</td>\n",
       "      <td>Inception</td>\n",
       "      <td>dream,ambiguous-ending,subconscious,mindbender...</td>\n",
       "      <td>Movies</td>\n",
       "    </tr>\n",
       "  </tbody>\n",
       "</table>\n",
       "</div>"
      ],
      "text/plain": [
       "   Unnamed: 0                 title  \\\n",
       "0           0  Le ali della libertà   \n",
       "1           1   Il cavaliere oscuro   \n",
       "2           2             Inception   \n",
       "\n",
       "                                            keywords    type  \n",
       "0  wrongful-imprisonment,based-on-the-works-of-st...  Movies  \n",
       "1  dc-comics,joker,psychopath,clown,criminal-mast...  Movies  \n",
       "2  dream,ambiguous-ending,subconscious,mindbender...  Movies  "
      ]
     },
     "execution_count": 49,
     "metadata": {},
     "output_type": "execute_result"
    }
   ],
   "source": [
    "movies.head(3)"
   ]
  },
  {
   "cell_type": "code",
   "execution_count": 50,
   "metadata": {},
   "outputs": [],
   "source": [
    "# Subset the movie titles and keywords\n",
    "\n",
    "movies = movies[['title', 'keywords']]"
   ]
  },
  {
   "cell_type": "code",
   "execution_count": 51,
   "metadata": {},
   "outputs": [],
   "source": [
    "movies['type'] = 'Movies'"
   ]
  },
  {
   "cell_type": "code",
   "execution_count": 52,
   "metadata": {},
   "outputs": [
    {
     "data": {
      "text/html": [
       "<div>\n",
       "<style scoped>\n",
       "    .dataframe tbody tr th:only-of-type {\n",
       "        vertical-align: middle;\n",
       "    }\n",
       "\n",
       "    .dataframe tbody tr th {\n",
       "        vertical-align: top;\n",
       "    }\n",
       "\n",
       "    .dataframe thead th {\n",
       "        text-align: right;\n",
       "    }\n",
       "</style>\n",
       "<table border=\"1\" class=\"dataframe\">\n",
       "  <thead>\n",
       "    <tr style=\"text-align: right;\">\n",
       "      <th></th>\n",
       "      <th>title</th>\n",
       "      <th>keywords</th>\n",
       "      <th>type</th>\n",
       "    </tr>\n",
       "  </thead>\n",
       "  <tbody>\n",
       "    <tr>\n",
       "      <th>0</th>\n",
       "      <td>Le ali della libertà</td>\n",
       "      <td>wrongful-imprisonment,based-on-the-works-of-st...</td>\n",
       "      <td>Movies</td>\n",
       "    </tr>\n",
       "    <tr>\n",
       "      <th>1</th>\n",
       "      <td>Il cavaliere oscuro</td>\n",
       "      <td>dc-comics,joker,psychopath,clown,criminal-mast...</td>\n",
       "      <td>Movies</td>\n",
       "    </tr>\n",
       "    <tr>\n",
       "      <th>2</th>\n",
       "      <td>Inception</td>\n",
       "      <td>dream,ambiguous-ending,subconscious,mindbender...</td>\n",
       "      <td>Movies</td>\n",
       "    </tr>\n",
       "    <tr>\n",
       "      <th>3</th>\n",
       "      <td>Fight Club</td>\n",
       "      <td>fighting,surprise-ending,anti-establishment,in...</td>\n",
       "      <td>Movies</td>\n",
       "    </tr>\n",
       "    <tr>\n",
       "      <th>4</th>\n",
       "      <td>Pulp Fiction</td>\n",
       "      <td>nonlinear-timeline,overdose,drug-use,drug-over...</td>\n",
       "      <td>Movies</td>\n",
       "    </tr>\n",
       "  </tbody>\n",
       "</table>\n",
       "</div>"
      ],
      "text/plain": [
       "                  title                                           keywords  \\\n",
       "0  Le ali della libertà  wrongful-imprisonment,based-on-the-works-of-st...   \n",
       "1   Il cavaliere oscuro  dc-comics,joker,psychopath,clown,criminal-mast...   \n",
       "2             Inception  dream,ambiguous-ending,subconscious,mindbender...   \n",
       "3            Fight Club  fighting,surprise-ending,anti-establishment,in...   \n",
       "4          Pulp Fiction  nonlinear-timeline,overdose,drug-use,drug-over...   \n",
       "\n",
       "     type  \n",
       "0  Movies  \n",
       "1  Movies  \n",
       "2  Movies  \n",
       "3  Movies  \n",
       "4  Movies  "
      ]
     },
     "execution_count": 52,
     "metadata": {},
     "output_type": "execute_result"
    }
   ],
   "source": [
    "movies.head()"
   ]
  },
  {
   "cell_type": "code",
   "execution_count": 53,
   "metadata": {},
   "outputs": [],
   "source": [
    "movie_keywords = movies['keywords'].tolist()"
   ]
  },
  {
   "cell_type": "code",
   "execution_count": 54,
   "metadata": {},
   "outputs": [],
   "source": [
    "# Use list comprehension to make all keywords lowercase and then tokenized. Creates a list of lists\n",
    "\n",
    "movie_keywords = [word_tokenize(keyword.lower()) for keyword in movie_keywords]"
   ]
  },
  {
   "cell_type": "code",
   "execution_count": 60,
   "metadata": {},
   "outputs": [],
   "source": [
    "# Create a function that deletes all the elements with ','.\n",
    "\n",
    "def no_commas(keyword):\n",
    "    no_commas = [c for c in keyword if c != ',']\n",
    "    return no_commas"
   ]
  },
  {
   "cell_type": "code",
   "execution_count": null,
   "metadata": {},
   "outputs": [],
   "source": [
    "movie_keywords = [no_commas(keyword) for keyword in movie_keywords]"
   ]
  },
  {
   "cell_type": "code",
   "execution_count": 55,
   "metadata": {},
   "outputs": [],
   "source": [
    "# We shall save our movie_keywords (takes a while to tokenize them)\n",
    "\n",
    "with open(\"movie_keywords.pkl\", \"wb\") as fp:   #Pickling\n",
    "    pickle.dump(movie_keywords, fp)"
   ]
  },
  {
   "cell_type": "code",
   "execution_count": 35,
   "metadata": {},
   "outputs": [],
   "source": [
    "# Save file\n",
    "\n",
    "movies.to_csv(path_or_buf= 'movies.csv')"
   ]
  },
  {
   "cell_type": "markdown",
   "metadata": {},
   "source": [
    "# 3.2 ) TV Series"
   ]
  },
  {
   "cell_type": "code",
   "execution_count": 49,
   "metadata": {},
   "outputs": [],
   "source": [
    "tv_series = pd.read_csv(r'C:\\Users\\Cisco\\OneDrive\\Documents\\Springboard\\Final_Capstone_Project\\tv_series.csv')"
   ]
  },
  {
   "cell_type": "code",
   "execution_count": null,
   "metadata": {},
   "outputs": [],
   "source": [
    "tv_series.drop('Unnamed: 0', inplace= True, axis= 1)"
   ]
  },
  {
   "cell_type": "code",
   "execution_count": 51,
   "metadata": {},
   "outputs": [],
   "source": [
    "tv_series.rename(columns= {'primaryTitle': 'title', 'tv_keywords': 'keywords'}, inplace= True)"
   ]
  },
  {
   "cell_type": "code",
   "execution_count": 52,
   "metadata": {},
   "outputs": [],
   "source": [
    "# We shall conduct the same steps performed in the Section 3.1\n",
    "\n",
    "tv_series = tv_series[['title', 'keywords']]"
   ]
  },
  {
   "cell_type": "code",
   "execution_count": 54,
   "metadata": {},
   "outputs": [
    {
     "name": "stderr",
     "output_type": "stream",
     "text": [
      "C:\\Users\\Cisco\\anaconda3\\lib\\site-packages\\ipykernel_launcher.py:1: SettingWithCopyWarning: \n",
      "A value is trying to be set on a copy of a slice from a DataFrame.\n",
      "Try using .loc[row_indexer,col_indexer] = value instead\n",
      "\n",
      "See the caveats in the documentation: https://pandas.pydata.org/pandas-docs/stable/user_guide/indexing.html#returning-a-view-versus-a-copy\n",
      "  \"\"\"Entry point for launching an IPython kernel.\n"
     ]
    }
   ],
   "source": [
    "tv_series['type'] = 'TV'"
   ]
  },
  {
   "cell_type": "code",
   "execution_count": 56,
   "metadata": {},
   "outputs": [
    {
     "data": {
      "text/plain": [
       "(6679, 3)"
      ]
     },
     "execution_count": 56,
     "metadata": {},
     "output_type": "execute_result"
    }
   ],
   "source": [
    "tv_series.shape"
   ]
  },
  {
   "cell_type": "code",
   "execution_count": 57,
   "metadata": {},
   "outputs": [],
   "source": [
    "tv_keywords = tv_series['keywords'].tolist()"
   ]
  },
  {
   "cell_type": "code",
   "execution_count": 58,
   "metadata": {},
   "outputs": [],
   "source": [
    "tv_keywords = [word_tokenize(keyword.lower()) for keyword in tv_keywords]"
   ]
  },
  {
   "cell_type": "code",
   "execution_count": 61,
   "metadata": {},
   "outputs": [],
   "source": [
    "# Utilizes the no_commas function defined in Section 3.1\n",
    "\n",
    "tv_keywords = [no_commas(keyword) for keyword in tv_keywords]"
   ]
  },
  {
   "cell_type": "code",
   "execution_count": 63,
   "metadata": {
    "scrolled": true
   },
   "outputs": [],
   "source": [
    "# We shall save our tv_keywords as well \n",
    "\n",
    "with open(\"tv_keywords.pkl\", \"wb\") as fp:   #Pickling\n",
    "    pickle.dump(tv_keywords, fp)"
   ]
  },
  {
   "cell_type": "code",
   "execution_count": 64,
   "metadata": {},
   "outputs": [],
   "source": [
    "# Save file\n",
    "\n",
    "tv_series.to_csv(path_or_buf= 'tv_series.csv')"
   ]
  },
  {
   "cell_type": "markdown",
   "metadata": {},
   "source": [
    "# 3.3) TV series and Movies Combined"
   ]
  },
  {
   "cell_type": "code",
   "execution_count": 40,
   "metadata": {},
   "outputs": [],
   "source": [
    "# We will combine both TV and Movies dataframne into one. Will be helpful in streamlining the recommendation functions\n",
    "# Will also be useful for the keyword recommendation\n",
    "\n",
    "comb_df = movies.append(tv_series)\n",
    "comb_keywords = comb_df['keywords'].tolist()\n",
    "comb_keywords = [word_tokenize(keyword.lower()) for keyword in comb_keywords]\n",
    "comb_keywords = [no_commas(keyword) for keyword in comb_keywords]"
   ]
  },
  {
   "cell_type": "code",
   "execution_count": 56,
   "metadata": {},
   "outputs": [],
   "source": [
    "with open(\"comb_keywords.pkl\", \"wb\") as fp:   # Pickling\n",
    "    pickle.dump(comb_keywords, fp)"
   ]
  },
  {
   "cell_type": "code",
   "execution_count": 31,
   "metadata": {},
   "outputs": [],
   "source": [
    "comb_df.to_csv(path_or_buf= 'comb_df.csv')"
   ]
  },
  {
   "cell_type": "markdown",
   "metadata": {},
   "source": [
    "# 4) Machine Learning Models"
   ]
  },
  {
   "cell_type": "code",
   "execution_count": 3,
   "metadata": {},
   "outputs": [],
   "source": [
    "# Load all files needed\n",
    "\n",
    "tv_series = pd.read_csv(r'C:\\Users\\Cisco\\OneDrive\\Documents\\Springboard\\Final_Capstone_Project\\tv_series.csv')\n",
    "movies = pd.read_csv(r'C:\\Users\\Cisco\\OneDrive\\Documents\\Springboard\\Final_Capstone_Project\\movies.csv')\n",
    "comb_df = pd.read_csv(r'C:\\Users\\Cisco\\OneDrive\\Documents\\Springboard\\Final_Capstone_Project\\comb_df.csv')\n",
    "\n",
    "with open(\"movie_keywords.pkl\", \"rb\") as fp:   # Unpickling\n",
    "    movie_keywords = pickle.load(fp)\n",
    "\n",
    "with open(\"tv_keywords.pkl\", \"rb\") as fp:   # Unpickling\n",
    "    tv_keywords = pickle.load(fp)\n",
    "    \n",
    "with open(\"comb_keywords.pkl\", \"rb\") as fp:   # Unpickling\n",
    "    comb_keywords = pickle.load(fp)"
   ]
  },
  {
   "cell_type": "code",
   "execution_count": 4,
   "metadata": {},
   "outputs": [],
   "source": [
    "tv_series.drop('Unnamed: 0', inplace= True, axis= 1)\n",
    "movies.drop('Unnamed: 0', inplace= True, axis= 1)\n",
    "comb_df.drop('Unnamed: 0', inplace= True, axis= 1)"
   ]
  },
  {
   "cell_type": "code",
   "execution_count": 5,
   "metadata": {},
   "outputs": [],
   "source": [
    "# We will use these functions to help seperate our search between filters and movies in our recommendation system\n",
    "# (Mainly the Matrix Similarity Recommendation system)\n",
    "\n",
    "def get_titles():\n",
    "    title = input(\"What partiucaly content(whether its a movie or TV show) are you looking for? (the earch is case sensitive) [Type 'skip' to do a keyword search instead] \")\n",
    "    return title\n",
    "\n",
    "def get_keywords():\n",
    "    keywords = input(\"What are some of the keywords that describe the title you want to watch, like elements of the plot, whether or not it is about friendship, etc? (if multiple, please separate them with a comma and type it in lower-case)? \")\n",
    "    keywords = \" \".join([\"\".join(n.split()) for n in keywords.lower().split(',')])\n",
    "    return keywords\n",
    "\n",
    "\n",
    "def get_searchTerms():\n",
    "    searchTerms = [] \n",
    "    title_chosen = get_titles()\n",
    "    if title_chosen != 'skip':\n",
    "        searchTerms.append(title_chosen)\n",
    "        return searchTerms\n",
    "\n",
    "    keywords_chosen = get_keywords()\n",
    "    if keywords_chosen != 'skip':\n",
    "        searchTerms.append(keywords_chosen)\n",
    "        return searchTerms\n",
    "    "
   ]
  },
  {
   "cell_type": "markdown",
   "metadata": {},
   "source": [
    "# 4.1) Matrix Similarity"
   ]
  },
  {
   "cell_type": "code",
   "execution_count": 7,
   "metadata": {},
   "outputs": [],
   "source": [
    "# Create a dictionary of the words from our keywords that is matched with and ID\n",
    "\n",
    "movie_dict = Dictionary(movie_keywords) #fit Dictionary"
   ]
  },
  {
   "cell_type": "code",
   "execution_count": 8,
   "metadata": {},
   "outputs": [],
   "source": [
    "# Converts it into bag of words format\n",
    "\n",
    "movie_corpus = [movie_dict.doc2bow(doc) for doc in movie_keywords]"
   ]
  },
  {
   "cell_type": "code",
   "execution_count": 9,
   "metadata": {},
   "outputs": [],
   "source": [
    "# Essentially gives each elements in the corpus weights based on the local term frequency with conjunction to its\n",
    "# frequency within overall documents.\n",
    "\n",
    "tfidf_movies = TfidfModel(movie_corpus) # fit the model"
   ]
  },
  {
   "cell_type": "code",
   "execution_count": 10,
   "metadata": {},
   "outputs": [],
   "source": [
    "# Create similarities between the sets of keywords and the keyword within each movie\n",
    "# tfidf model creates a vector of the corpus\n",
    "\n",
    "movie_similar = MatrixSimilarity(tfidf_movies[movie_corpus], num_features= len(movie_dict))"
   ]
  },
  {
   "cell_type": "code",
   "execution_count": 11,
   "metadata": {},
   "outputs": [],
   "source": [
    "# We shall repeat the same steps as above for tv_series\n",
    "\n",
    "tv_dict = Dictionary(tv_keywords)\n",
    "tv_corpus = [tv_dict.doc2bow(doc) for doc in tv_keywords]\n",
    "tfidf_tv = TfidfModel(tv_corpus)\n",
    "tv_similar = MatrixSimilarity(tfidf_tv[tv_corpus], num_features= len(tv_dict))"
   ]
  },
  {
   "cell_type": "code",
   "execution_count": 12,
   "metadata": {},
   "outputs": [],
   "source": [
    "# Repeat the same for comb_df (will be used for the keyword aspect of the recommendation system)\n",
    "\n",
    "comb_dict = Dictionary(comb_keywords)\n",
    "comb_corpus = [comb_dict.doc2bow(doc) for doc in comb_keywords]\n",
    "tfidf_comb = TfidfModel(comb_corpus)\n",
    "comb_similar = MatrixSimilarity(tfidf_comb[comb_corpus], num_features= len(comb_dict))"
   ]
  },
  {
   "cell_type": "code",
   "execution_count": 27,
   "metadata": {},
   "outputs": [],
   "source": [
    "def matrix_recommendation(number_of_hits= 5):\n",
    "    terms = get_searchTerms()\n",
    "    if str(terms) != str(terms).lower(): # Titles have capilatized letters while all the keywords do not. Hence, this line\n",
    "                                         # will seperate how the function will process the the inputs between each\n",
    "\n",
    "        title_row = comb_df.loc[comb_df.title == terms[0]] # finds the row of requested title\n",
    "    \n",
    "        if title_row.type.values == 'Movies': # finds the movie row that's requested\n",
    "            keywords = title_row['keywords'].iloc[0].split(',') # receives the keywords as a series then retrieves it as a string, to then\n",
    "                                                    # be converted to a list using split(',')\n",
    "    \n",
    "            query_bow = movie_dict.doc2bow(keywords) # retrieves ID and bag of words that corresponds with the given keywords\n",
    "            query_tfidf = tfidf_movies[query_bow] # converts bag of words into tfidf with tuples containing its movie ID as well \n",
    "                                                  # as its corresponding weighted value\n",
    "\n",
    "            similarity_arr = movie_similar[query_tfidf] # retrieves similarity values between our movie index and the rest of the movies\n",
    "                                                    # This is based on the corresponding tfidf value being compared to the rest\n",
    "            sim_series = pd.Series(similarity_arr.tolist(), index= movies.title.values) # combines both arrays into a series\n",
    "        \n",
    "            sorted_tfidf_weights = sorted(tfidf_movies[movie_corpus[title_row.index.values.tolist()[0]]], key= lambda w: w[1], reverse= True)\n",
    "            # print the words with the highest tf-idf values\n",
    "        \n",
    "            top_hits = sim_series.sort_values(ascending= False)[1:number_of_hits + 1] \n",
    "            # this will retrive the top 5 movies that are most similar.\n",
    "            # started at 1 due to the fact that the top \"0\" movie is itself and of course would be the most similar\n",
    "\n",
    "            print('The top 5 words associated with this movie by tf-idf are:')\n",
    "            for term_id, weight in sorted_tfidf_weights[:5]:\n",
    "                print(f'{movie_dict.get(term_id)} with a tf-idf score of {weight}')\n",
    "    \n",
    "            # Print the top matching movies\n",
    "            print(f'\\nOur top {number_of_hits} most similar movies for movie {terms} are: ')\n",
    "            for idx, (movie, score) in enumerate(zip(top_hits.index, top_hits)):\n",
    "                print(f'{idx + 1}) {movie} with a similarity score of {score}')\n",
    "            \n",
    "        else:\n",
    "            title_row = tv_series.loc[tv_series.title == terms[0]]\n",
    "            keywords = title_row['keywords'].iloc[0].split(',') \n",
    "        \n",
    "            query_bow = tv_dict.doc2bow(keywords) # retrieves ID and bag of words that corresponds with the given keywords\n",
    "            query_tfidf = tfidf_tv[query_bow] # converts bag of words into tfidf with tuples containing its movie ID as well as its\n",
    "                                              # corresponding weighted value\n",
    "\n",
    "            similarity_arr = tv_similar[query_tfidf] # retrieves similarity values between our tv series index and the rest of the tv series\n",
    "                                                     # This is based on the corresponding tfidf value being compared to the rest\n",
    "    \n",
    "\n",
    "            sim_series = pd.Series(similarity_arr.tolist(), index= tv_series.title.values) # combines both arrays into a series\n",
    "            top_hits = sim_series.sort_values(ascending= False)[1:number_of_hits + 1] \n",
    "            # this will retrive the top 5 tv shows that are most similar.\n",
    "            # started at 1 due to the fact that the top \"0\" movie is itself and of course would be the most similar\n",
    "\n",
    "            # print the words with the highest tf-idf values:\n",
    "            sorted_tfidf_weights = sorted(tfidf_tv[tv_corpus[title_row.index.values.tolist()[0]]], key= lambda w: w[1], reverse= True)\n",
    "            print('The top 5 words associated with this tv series by tf-idf are:')\n",
    "            for term_id, weight in sorted_tfidf_weights[:5]:\n",
    "                print(f'{tv_dict.get(term_id)} with a tf-idf score of {weight}')\n",
    "    \n",
    "            # Print the top matching tv shows\n",
    "            print(f'\\nOur top {number_of_hits} most similar tv series for {terms} are: ')\n",
    "            for idx, (tv_show, score) in enumerate(zip(top_hits.index, top_hits)):\n",
    "                print(f'{idx + 1}) {tv_show} with a similarity score of {score}')\n",
    "                \n",
    "  # Below will be for the case when keywords are inputted              \n",
    "    else:\n",
    "        query_bow = comb_dict.doc2bow(terms) # retrieves ID and bag of words that corresponds with the given keywords\n",
    "        query_tfidf = tfidf_comb[query_bow] \n",
    "\n",
    "        similarity_arr = comb_similar[query_tfidf] \n",
    "\n",
    "        sim_series = pd.Series(similarity_arr.tolist(), index= comb_df.title.values) \n",
    "        top_hits = sim_series.sort_values(ascending=False)[ :number_of_hits] # This time it starts at zero because there\n",
    "        # the user is trying to find any movie similar to the keywords\n",
    "\n",
    "        # Print the top matching movies\n",
    "        print(f'\\nOur top {number_of_hits} most similar titles for the keywords {terms} are:')\n",
    "        for idx, (title, score) in enumerate(zip(top_hits.index, top_hits)):\n",
    "            print(f'{idx + 1}) {title} with a similarity score of {score}')"
   ]
  },
  {
   "cell_type": "code",
   "execution_count": 18,
   "metadata": {},
   "outputs": [
    {
     "name": "stdout",
     "output_type": "stream",
     "text": [
      "What partiucaly movie is closer to the type of title(whether its a move or TV show) you are looking for? (Movie search is case sensitive) [Type 'skip' to do a keyword search instead] Fight Club\n",
      "The top 5 words associated with this movie by tf-idf are:\n",
      "charming with a tf-idf score of 0.09082599912847328\n",
      "culture-jamming with a tf-idf score of 0.09082599912847328\n",
      "film-reel,1990s with a tf-idf score of 0.09082599912847328\n",
      "group-work with a tf-idf score of 0.09082599912847328\n",
      "man-at-a-urinal with a tf-idf score of 0.09082599912847328\n",
      "\n",
      "Our top 5 most similar movies for movie ['Fight Club'] are: \n",
      "1) Scum with a similarity score of 0.09055916965007782\n",
      "2) Joker with a similarity score of 0.07697178423404694\n",
      "3) Hell House LLC with a similarity score of 0.076406329870224\n",
      "4) Cogan - Killing Them Softly with a similarity score of 0.0758041962981224\n",
      "5) The Possession of Michael King with a similarity score of 0.07456636428833008\n"
     ]
    }
   ],
   "source": [
    "# This is movie recommendation for Fight Club\n",
    "\n",
    "matrix_recommendation()"
   ]
  },
  {
   "cell_type": "code",
   "execution_count": 97,
   "metadata": {},
   "outputs": [
    {
     "name": "stdout",
     "output_type": "stream",
     "text": [
      "What partiucaly movie is closer to the type of title(whether its a move or TV show) you are looking for? (Movie search is case sensitive) [Type 'skip' to do a keyword search instead] Game of Thrones\n",
      "The top 5 words associated with this tv series by tf-idf are:\n",
      "a-song-of-ice-and-fire with a tf-idf score of 0.1053079197037401\n",
      "american-fantasy-literature-on-screen with a tf-idf score of 0.1053079197037401\n",
      "american-literature-on-screen,20th-century-literature-on-screen,21st-century-literature-on-screen with a tf-idf score of 0.1053079197037401\n",
      "brother-sister-romance,2010s with a tf-idf score of 0.1053079197037401\n",
      "dystopian-fantasy with a tf-idf score of 0.1053079197037401\n",
      "\n",
      "Our top 5 most similar tv series for ['Game of Thrones'] are: \n",
      "1) The White Queen with a similarity score of 0.1503027081489563\n",
      "2) The Expanse with a similarity score of 0.13402679562568665\n",
      "3) The Dragon Prince with a similarity score of 0.12772822380065918\n",
      "4) Merlin with a similarity score of 0.11945970356464386\n",
      "5) Dave the Barbarian with a similarity score of 0.09674270451068878\n"
     ]
    }
   ],
   "source": [
    "# TV recommendation for Game of Thrones\n",
    "\n",
    "matrix_recommendation()"
   ]
  },
  {
   "cell_type": "code",
   "execution_count": 20,
   "metadata": {},
   "outputs": [
    {
     "name": "stdout",
     "output_type": "stream",
     "text": [
      "What partiucaly movie is closer to the type of title(whether its a move or TV show) you are looking for? (Movie search is case sensitive) [Type 'skip' to do a keyword search instead] skip\n",
      "What are some of the keywords that describe the title you want to watch, like elements of the plot, whether or not it is about friendship, etc? (if multiple, please separate them with a comma and type it in lower-case)? dystopian-fantasy\n",
      "\n",
      "Our top 5 most similar titles for the keywords ['dystopian-fantasy'] are:\n",
      "1) Game of Thrones with a similarity score of 0.12091726064682007\n",
      "2) I Dream of Jeannie with a similarity score of 0.0\n",
      "3) Trollhunters: Tales of Arcadia with a similarity score of 0.0\n",
      "4) Are You Afraid of the Dark? with a similarity score of 0.0\n",
      "5) Reba with a similarity score of 0.0\n"
     ]
    }
   ],
   "source": [
    "# Keyword recommendation for Game of Thrones\n",
    "\n",
    "matrix_recommendation()"
   ]
  },
  {
   "cell_type": "code",
   "execution_count": 21,
   "metadata": {},
   "outputs": [
    {
     "name": "stdout",
     "output_type": "stream",
     "text": [
      "What partiucaly movie is closer to the type of title(whether its a move or TV show) you are looking for? (Movie search is case sensitive) [Type 'skip' to do a keyword search instead] skip\n",
      "What are some of the keywords that describe the title you want to watch, like elements of the plot, whether or not it is about friendship, etc? (if multiple, please separate them with a comma and type it in lower-case)? charming\n",
      "\n",
      "Our top 5 most similar titles for the keywords ['charming'] are:\n",
      "1) Fight Club with a similarity score of 0.08657082915306091\n",
      "2) Le ali della libertà with a similarity score of 0.0\n",
      "3) Rurouni Kenshin: Trust and Betrayal with a similarity score of 0.0\n",
      "4) Delhi Crime with a similarity score of 0.0\n",
      "5) Vinland Saga with a similarity score of 0.0\n"
     ]
    }
   ],
   "source": [
    "# Keyword recommendation for Fight Club\n",
    "\n",
    "matrix_recommendation()"
   ]
  },
  {
   "cell_type": "markdown",
   "metadata": {},
   "source": [
    "As seen above, the movies that were recommended by utilizing matrix similarity makes sense. Some movies recommended for \"Fight Club\" had a theme of anarchy, while another is cult themed and then there's the one with relevance to split personality. For tv_series, it did well with mainly recommending shows that are medieval themed if you were looking up \"Game of Thrones\". Overall, this model did a great job in picking out similar content. \n"
   ]
  },
  {
   "cell_type": "markdown",
   "metadata": {},
   "source": [
    "The keyword recommendation portion works well too! Charming was one of the main keywords for Fight Club and I recognized the titles on the other list as being TV shows with a similar style. "
   ]
  },
  {
   "cell_type": "markdown",
   "metadata": {},
   "source": [
    "Based on the results, compounded by research of the other recommended content from each of the similarities, I chose the matrix similarity to be the backing of my recommendation system"
   ]
  },
  {
   "cell_type": "markdown",
   "metadata": {},
   "source": [
    "# 4.2) Cosine Similarity"
   ]
  },
  {
   "cell_type": "code",
   "execution_count": 34,
   "metadata": {},
   "outputs": [],
   "source": [
    "from sklearn.feature_extraction.text import CountVectorizer\n",
    "from sklearn.metrics.pairwise import cosine_similarity"
   ]
  },
  {
   "cell_type": "code",
   "execution_count": 31,
   "metadata": {},
   "outputs": [],
   "source": [
    "# We will create a function that takes in the keywords list and outputs a matrix of token counts\n",
    "\n",
    "def get_vectors(keyword):\n",
    "    vect = CountVectorizer(keyword)\n",
    "    X = vect.fit_transform(keyword).toarray()\n",
    "    return(X)\n",
    "vectors = get_vectors(comb.keywords.tolist())"
   ]
  },
  {
   "cell_type": "code",
   "execution_count": 32,
   "metadata": {},
   "outputs": [
    {
     "data": {
      "text/plain": [
       "array([[0, 0, 0, ..., 0, 0, 0],\n",
       "       [0, 0, 0, ..., 0, 0, 0],\n",
       "       [0, 0, 0, ..., 0, 0, 0],\n",
       "       ...,\n",
       "       [0, 0, 0, ..., 0, 0, 0],\n",
       "       [0, 0, 0, ..., 0, 0, 0],\n",
       "       [0, 0, 0, ..., 0, 0, 0]], dtype=int64)"
      ]
     },
     "execution_count": 32,
     "metadata": {},
     "output_type": "execute_result"
    }
   ],
   "source": [
    "vectors"
   ]
  },
  {
   "cell_type": "code",
   "execution_count": 230,
   "metadata": {},
   "outputs": [],
   "source": [
    "# Create a function that takens in the movie, finds its keyword vector, and performs a cosine similarity with all the\n",
    "# keyword vectors available in our variable \"vectors\"\n",
    "\n",
    "def cosine_recommender(title, number_of_hits= 5):\n",
    "    title_row = comb_df.loc[comb_df.title == title]\n",
    "    \n",
    "    if title_row.type.values == 'Movies': # finds the movie row that's requested\n",
    "        movie_index = movies[movies.title == title].index.values[0]\n",
    "\n",
    "        cosines = []\n",
    "        for i in range(len(vectors)):\n",
    "            vector_list = [vectors[movie_index], vectors[i]] # vectorizes the title of choice with all the titles available\n",
    "            cosines.append(cosine_similarity(vector_list)[0,1]) \n",
    "\n",
    "        cosines = pd.Series(cosines)\n",
    "        index = cosines.nlargest(number_of_hits + 1).index # Same as before, start at 1 so it doesn't output the same movie inputted\n",
    "                                                        \n",
    "        matches = movies.loc[index]\n",
    "        for match, score in zip(matches['title'][1:], cosines[index][1:]):\n",
    "            print(match, score)\n",
    "    else:\n",
    "        tv_index = tv_series[tv_series.title == title].index.values[0]\n",
    "\n",
    "        cosines = []\n",
    "        for i in range(len(vectors_tv)):\n",
    "            vector_list = [vectors_tv[tv_index], vectors_tv[i]]\n",
    "            cosines.append(cosine_similarity(vector_list)[0,1])\n",
    "\n",
    "        cosines = pd.Series(cosines)\n",
    "        index = cosines.nlargest(number_of_hits + 1).index \n",
    "                                                        \n",
    "        matches = tv_series.loc[index]\n",
    "        for match, score in zip(matches['title'][1:], cosines[index][1:]):\n",
    "            print(match, score)\n",
    "        "
   ]
  },
  {
   "cell_type": "code",
   "execution_count": 231,
   "metadata": {},
   "outputs": [
    {
     "name": "stdout",
     "output_type": "stream",
     "text": [
      "Deadpool 0.6796552589180409\n",
      "Deadpool 2 0.6408813759538778\n",
      "Guns Akimbo 0.6386441025067038\n",
      "Cattivi vicini 0.618167027305874\n",
      "Charlie Countryman deve morire 0.617140737061081\n"
     ]
    }
   ],
   "source": [
    "cosine_recommender('Fight Club')"
   ]
  },
  {
   "cell_type": "code",
   "execution_count": 232,
   "metadata": {},
   "outputs": [
    {
     "name": "stdout",
     "output_type": "stream",
     "text": [
      "Family Affair 0.5074615575685869\n",
      "The White Queen 0.504237558074583\n",
      "Father Knows Best 0.4831301653211368\n",
      "As the World Turns 0.47715183808524186\n",
      "Packed to the Rafters 0.47678307473630444\n"
     ]
    }
   ],
   "source": [
    "cosine_recommender('Game of Thrones')"
   ]
  },
  {
   "cell_type": "markdown",
   "metadata": {},
   "source": [
    "Interesting... The result for movies were completely different than the ones provided by the MatrixSimilarity model while the ones for tv series were a bit more similar."
   ]
  },
  {
   "cell_type": "markdown",
   "metadata": {},
   "source": [
    "# 4.3) Jaccard Similarity"
   ]
  },
  {
   "cell_type": "code",
   "execution_count": 49,
   "metadata": {},
   "outputs": [],
   "source": [
    "# Essentially, this similarity gets the intersection of the set of keywords divided by the union of the set of keywords\n",
    "\n",
    "def get_jaccard_sim(str1, str2): # Str1 is the keywords of the movie you're looking for & str2 are all the other movies \n",
    "    a = set(str1.split(','))\n",
    "    b = set(str2.split(','))\n",
    "    c = a.intersection(b)\n",
    "    return(float(len(c)) / (len(a) + len(b) - len(c)))"
   ]
  },
  {
   "cell_type": "code",
   "execution_count": 50,
   "metadata": {},
   "outputs": [],
   "source": [
    "# This function will find the keywords of the movie title chosen and will compare it to the rest of the keywords of all other \n",
    "# movies. The ones with the highest ratio will be chosen and will have the \"most\" similarity\n",
    "\n",
    "def jaccard_recommender(title, number_of_hits= 5):\n",
    "    title_row = comb_df[comb_df.title == title]\n",
    "    \n",
    "    if title_row.type.values == 'Movies':\n",
    "        keyword_string = title_row.keywords.iloc[0]\n",
    "\n",
    "        jaccards = []\n",
    "        for movie in movies['keywords']:\n",
    "            jaccards.append(get_jaccard_sim(keyword_string, movie)) # Here's were it will get the chosen movie's keywords as first input\n",
    "            # and all the movies' keywords in our database as second input\n",
    "        jaccards = pd.Series(jaccards)\n",
    "        jaccards_index = jaccards.nlargest(number_of_hits + 1).index\n",
    "        matches = movies.loc[jaccards_index]   # Retrieves the top 5 movies with the highest similarity value\n",
    "        for match, score in zip(matches['title'][1:], jaccards[jaccards_index][1:]) :\n",
    "            print(match, score)\n",
    "    else:\n",
    "        keyword_string = title_row.keywords.iloc[0]\n",
    "\n",
    "        jaccards = []\n",
    "        for show in tv_series['keywords']:\n",
    "            jaccards.append(get_jaccard_sim(keyword_string, show)) \n",
    "        \n",
    "        jaccards = pd.Series(jaccards)\n",
    "        jaccards_index = jaccards.nlargest(number_of_hits + 1).index\n",
    "        matches = tv_series.loc[jaccards_index]   # Retrieves the top 5 series with the highest similarity value\n",
    "        for match, score in zip(matches['title'][1:], jaccards[jaccards_index][1:]) :\n",
    "            print(match, score)\n",
    "        "
   ]
  },
  {
   "cell_type": "code",
   "execution_count": 43,
   "metadata": {},
   "outputs": [
    {
     "ename": "NameError",
     "evalue": "name 'jaccard_recommender' is not defined",
     "output_type": "error",
     "traceback": [
      "\u001b[1;31m---------------------------------------------------------------------------\u001b[0m",
      "\u001b[1;31mNameError\u001b[0m                                 Traceback (most recent call last)",
      "\u001b[1;32m<ipython-input-43-4070e4c3cb93>\u001b[0m in \u001b[0;36m<module>\u001b[1;34m\u001b[0m\n\u001b[1;32m----> 1\u001b[1;33m \u001b[0mjaccard_recommender\u001b[0m\u001b[1;33m(\u001b[0m\u001b[1;34m'Fight Club'\u001b[0m\u001b[1;33m)\u001b[0m\u001b[1;33m\u001b[0m\u001b[1;33m\u001b[0m\u001b[0m\n\u001b[0m",
      "\u001b[1;31mNameError\u001b[0m: name 'jaccard_recommender' is not defined"
     ]
    }
   ],
   "source": [
    "jaccard_recommender('Fight Club')"
   ]
  },
  {
   "cell_type": "code",
   "execution_count": 52,
   "metadata": {},
   "outputs": [
    {
     "name": "stdout",
     "output_type": "stream",
     "text": [
      "The White Queen 0.13043478260869565\n",
      "The Expanse 0.09006211180124224\n",
      "The Tudors 0.08620689655172414\n",
      "Mahabharat 0.07692307692307693\n",
      "Borgia 0.07611548556430446\n"
     ]
    }
   ],
   "source": [
    "jaccard_recommender('Game of Thrones')"
   ]
  },
  {
   "cell_type": "markdown",
   "metadata": {},
   "source": [
    "The titles recommended with this similarity model, overall, provided results similar to the ones provided by the MatrixSimilarity model"
   ]
  }
 ],
 "metadata": {
  "kernelspec": {
   "display_name": "Python 3",
   "language": "python",
   "name": "python3"
  },
  "language_info": {
   "codemirror_mode": {
    "name": "ipython",
    "version": 3
   },
   "file_extension": ".py",
   "mimetype": "text/x-python",
   "name": "python",
   "nbconvert_exporter": "python",
   "pygments_lexer": "ipython3",
   "version": "3.7.6"
  }
 },
 "nbformat": 4,
 "nbformat_minor": 4
}
